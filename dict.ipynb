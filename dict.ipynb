{
 "cells": [
  {
   "cell_type": "code",
   "execution_count": 1,
   "id": "8920d7ac-30de-489e-bd7f-be910920d75c",
   "metadata": {},
   "outputs": [],
   "source": [
    "#Dictionary\n",
    "# indexing\n",
    "# multiple and duplicate values\n",
    "# Ordered\n",
    "# Mutable"
   ]
  },
  {
   "cell_type": "code",
   "execution_count": 2,
   "id": "1ac6a0e8-8ad4-420e-8428-1ef758f9f408",
   "metadata": {},
   "outputs": [],
   "source": [
    "# d = {<key>:<value>, <key>:<value>}"
   ]
  },
  {
   "cell_type": "code",
   "execution_count": 5,
   "id": "e2d6998f-d79e-4606-9f67-8172cd6d2d4b",
   "metadata": {},
   "outputs": [
    {
     "name": "stdout",
     "output_type": "stream",
     "text": [
      "{'a': 'Apple', 'b': 'Ball', 'c': 'Cat', 'd': 'Dog'}\n",
      "<class 'dict'>\n"
     ]
    }
   ],
   "source": [
    "d = {'a':'Apple','b':'Ball','c':'Cat','d':'Dog'}\n",
    "print(d)\n",
    "print(type(d))"
   ]
  },
  {
   "cell_type": "code",
   "execution_count": 10,
   "id": "5ec3731a-487e-4a31-8b87-4824666bd44f",
   "metadata": {},
   "outputs": [
    {
     "name": "stdout",
     "output_type": "stream",
     "text": [
      "Apple\n"
     ]
    }
   ],
   "source": [
    "print(d['a'])"
   ]
  },
  {
   "cell_type": "code",
   "execution_count": 13,
   "id": "cbcba395-d4af-4f6d-8f7c-5c6427779e61",
   "metadata": {},
   "outputs": [
    {
     "data": {
      "text/plain": [
       "{'a': 'apple', 'b': 'Ball', 'c': 'Cat', 'd': 'Dog'}"
      ]
     },
     "execution_count": 13,
     "metadata": {},
     "output_type": "execute_result"
    }
   ],
   "source": [
    "d = {'a':'Apple','b':'Ball','c':'Cat','d':'Dog','a':'apple'}\n",
    "d"
   ]
  },
  {
   "cell_type": "code",
   "execution_count": 14,
   "id": "0a436060-31b3-43d9-a0ca-646c783ced7d",
   "metadata": {},
   "outputs": [],
   "source": [
    "# dict"
   ]
  },
  {
   "cell_type": "code",
   "execution_count": 15,
   "id": "3ce8a6c3-8433-4bb8-9b47-4b30eef9c0bf",
   "metadata": {},
   "outputs": [
    {
     "data": {
      "text/plain": [
       "{'a': 'Apple', 'b': 'Ball', 'c': 'Cat'}"
      ]
     },
     "execution_count": 15,
     "metadata": {},
     "output_type": "execute_result"
    }
   ],
   "source": [
    "d = {}\n",
    "d['a'] = \"Apple\"\n",
    "d[\"b\"] = \"Ball\"\n",
    "d[\"c\"] = \"Cat\"\n",
    "d"
   ]
  },
  {
   "cell_type": "code",
   "execution_count": 17,
   "id": "8e529a42-bbb4-45c8-ba01-ef8afb338b38",
   "metadata": {},
   "outputs": [
    {
     "name": "stdin",
     "output_type": "stream",
     "text": [
      "Enter n =  2\n",
      "Enter name =  Ram\n",
      "Enter phone =  9808889876\n",
      "Enter name =  Shyam\n",
      "Enter phone =  9806676543\n"
     ]
    },
    {
     "name": "stdout",
     "output_type": "stream",
     "text": [
      "{'Ram': '9808889876', 'Shyam': '9806676543'}\n"
     ]
    }
   ],
   "source": [
    "# WAP to create a dict using name and phone\n",
    "d = {}\n",
    "n = int(input(\"Enter n = \"))\n",
    "for i in range(n):\n",
    "    name = input(\"Enter name = \")\n",
    "    phone = input(\"Enter phone = \")\n",
    "    d[name] = phone\n",
    "\n",
    "print(d)"
   ]
  },
  {
   "cell_type": "code",
   "execution_count": 18,
   "id": "63add383-dfa3-4fac-8699-63ac1e7d4da8",
   "metadata": {},
   "outputs": [
    {
     "name": "stdout",
     "output_type": "stream",
     "text": [
      "Ram\n",
      "Shyam\n"
     ]
    }
   ],
   "source": [
    "for i in d:\n",
    "    print(i)"
   ]
  },
  {
   "cell_type": "code",
   "execution_count": 19,
   "id": "20323bf7-8663-484c-b8c2-9925b77870af",
   "metadata": {},
   "outputs": [
    {
     "name": "stdout",
     "output_type": "stream",
     "text": [
      "9808889876\n",
      "9806676543\n"
     ]
    }
   ],
   "source": [
    "for i in d.values():\n",
    "    print(i)"
   ]
  },
  {
   "cell_type": "code",
   "execution_count": 20,
   "id": "bd3f585a-1ca9-42f5-917f-bb8f6fd5dfb0",
   "metadata": {},
   "outputs": [
    {
     "name": "stdout",
     "output_type": "stream",
     "text": [
      "('Ram', '9808889876')\n",
      "('Shyam', '9806676543')\n"
     ]
    }
   ],
   "source": [
    "for i in d.items():\n",
    "    print(i)"
   ]
  },
  {
   "cell_type": "code",
   "execution_count": 21,
   "id": "3d4b47c5-8ada-4eeb-8aba-a52a7c65379a",
   "metadata": {},
   "outputs": [],
   "source": [
    "# in dict no + *\n"
   ]
  },
  {
   "cell_type": "code",
   "execution_count": 24,
   "id": "45c648c9-a96a-4005-b259-074bf4741ceb",
   "metadata": {},
   "outputs": [
    {
     "data": {
      "text/plain": [
       "{'Ram': 9808000000, 'Shyam': '9806676543'}"
      ]
     },
     "execution_count": 24,
     "metadata": {},
     "output_type": "execute_result"
    }
   ],
   "source": [
    "d = {'Ram': '9808889876', 'Shyam': '9806676543'}\n",
    "d['Ram'] = 9808000000\n",
    "d"
   ]
  },
  {
   "cell_type": "code",
   "execution_count": 25,
   "id": "5312129f-89fc-4fb2-a012-f29265e9c532",
   "metadata": {},
   "outputs": [
    {
     "data": {
      "text/plain": [
       "{'Shyam': '9806676543'}"
      ]
     },
     "execution_count": 25,
     "metadata": {},
     "output_type": "execute_result"
    }
   ],
   "source": [
    "# delete\n",
    "d = {'Ram': '9808889876', 'Shyam': '9806676543'}\n",
    "del d['Ram']\n",
    "d"
   ]
  },
  {
   "cell_type": "code",
   "execution_count": 26,
   "id": "49b16cbc-b30d-4334-9e8f-164ce2451be0",
   "metadata": {},
   "outputs": [
    {
     "name": "stdout",
     "output_type": "stream",
     "text": [
      "9808889876\n"
     ]
    }
   ],
   "source": [
    "d = {'Ram': '9808889876', 'Shyam': '9806676543'}\n",
    "x = d.pop('Ram')\n",
    "print(x)"
   ]
  },
  {
   "cell_type": "code",
   "execution_count": 30,
   "id": "e8c00afc-ef16-4048-90d9-c3a79722cdec",
   "metadata": {},
   "outputs": [
    {
     "name": "stdout",
     "output_type": "stream",
     "text": [
      "[9845667654, 9808778765]\n",
      "[9845673343, 9808778765]\n"
     ]
    }
   ],
   "source": [
    "# list inside ditc\n",
    "d = {'Ram':[9845667654,9808778765],'Shyam':[9845673343,9808778765]}\n",
    "print(d['Ram'])\n",
    "print(d['Shyam'])"
   ]
  },
  {
   "cell_type": "code",
   "execution_count": 34,
   "id": "da11b615-60be-42d7-96dd-5e43fdfc1731",
   "metadata": {},
   "outputs": [
    {
     "name": "stdout",
     "output_type": "stream",
     "text": [
      "9808778765\n"
     ]
    }
   ],
   "source": [
    "print(d['Ram'][1])"
   ]
  },
  {
   "cell_type": "code",
   "execution_count": 35,
   "id": "227bdd68-1762-4ab9-beda-f6e908d5f195",
   "metadata": {},
   "outputs": [
    {
     "name": "stdin",
     "output_type": "stream",
     "text": [
      "Enter n =  2\n",
      "Enter name =  Ram\n",
      "Enter ntc phone =  9845667654\n",
      "Enter ncell no 9808778765\n",
      "Enter name =  Shyam\n",
      "Enter ntc phone =  9845667654\n",
      "Enter ncell no 9808778765\n"
     ]
    },
    {
     "name": "stdout",
     "output_type": "stream",
     "text": [
      "{'Ram': ['9845667654', '9808778765'], 'Shyam': ['9845667654', '9808778765']}\n"
     ]
    }
   ],
   "source": [
    "# WAP to create a dict using name and phone\n",
    "d = {}\n",
    "n = int(input(\"Enter n = \"))\n",
    "for i in range(n):\n",
    "    name = input(\"Enter name = \")\n",
    "    ntc = input(\"Enter ntc phone = \")\n",
    "    ncell = input(\"Enter ncell no\")\n",
    "    d[name] = [ntc,ncell]\n",
    "\n",
    "print(d)"
   ]
  },
  {
   "cell_type": "code",
   "execution_count": 37,
   "id": "54b8c3f9-362f-49b8-8040-5b9acb0e7ed5",
   "metadata": {},
   "outputs": [
    {
     "data": {
      "text/plain": [
       "{'Ram': [9845897611, '9808778765'], 'Shyam': ['9845667654', '9808778765']}"
      ]
     },
     "execution_count": 37,
     "metadata": {},
     "output_type": "execute_result"
    }
   ],
   "source": [
    "# edit\n",
    "d = {'Ram': ['9845667654', '9808778765'], 'Shyam': ['9845667654', '9808778765']}\n",
    "d['Ram'][0] = 9845897611\n",
    "d"
   ]
  },
  {
   "cell_type": "code",
   "execution_count": 38,
   "id": "6d01150c-d265-459c-a14b-28ae7013a2d7",
   "metadata": {},
   "outputs": [],
   "source": [
    "del d['Ram'][1]"
   ]
  },
  {
   "cell_type": "code",
   "execution_count": 39,
   "id": "dac11355-1d6a-445c-bc9f-53d3643975d8",
   "metadata": {},
   "outputs": [
    {
     "data": {
      "text/plain": [
       "{'Ram': [9845897611], 'Shyam': ['9845667654', '9808778765']}"
      ]
     },
     "execution_count": 39,
     "metadata": {},
     "output_type": "execute_result"
    }
   ],
   "source": [
    "d"
   ]
  },
  {
   "cell_type": "code",
   "execution_count": 40,
   "id": "07ac8ee3-0925-4897-94e6-e71b684cda0d",
   "metadata": {},
   "outputs": [
    {
     "data": {
      "text/plain": [
       "{'name': ['Ram', 'Shyam'], 'age': [34, 56], 'add': ['Kathmandu', 'Bhaktapur']}"
      ]
     },
     "execution_count": 40,
     "metadata": {},
     "output_type": "execute_result"
    }
   ],
   "source": [
    "d = {'name':['Ram','Shyam'],\n",
    "    'age':[34,56],\n",
    "    'add':['Kathmandu','Bhaktapur']}\n",
    "d"
   ]
  },
  {
   "cell_type": "code",
   "execution_count": 41,
   "id": "8aeb4433-ac0c-49e1-b52e-36c6f1fc5885",
   "metadata": {},
   "outputs": [
    {
     "name": "stdin",
     "output_type": "stream",
     "text": [
      "Enter n =  2\n",
      "Enter name =  Ram\n",
      "Enter age =  78\n",
      "Enter add =  Kathmandu\n",
      "Enter name =  Shyam\n",
      "Enter age =  23\n",
      "Enter add =  Jhapa\n"
     ]
    },
    {
     "data": {
      "text/plain": [
       "{'name': ['Ram', 'Shyam'], 'age': [78, 23], 'add': ['Kathmandu', 'Jhapa']}"
      ]
     },
     "execution_count": 41,
     "metadata": {},
     "output_type": "execute_result"
    }
   ],
   "source": [
    "d = {'name':[],\n",
    "    'age':[],\n",
    "    'add':[]}\n",
    "n = int(input(\"Enter n = \"))\n",
    "for i in range(n):\n",
    "    name = input(\"Enter name = \")\n",
    "    age = int(input(\"Enter age = \"))\n",
    "    add = input(\"Enter add = \")\n",
    "    d['name'].append(name)\n",
    "    d['age'].append(age)\n",
    "    d['add'].append(add)\n",
    "\n",
    "d"
   ]
  },
  {
   "cell_type": "code",
   "execution_count": 42,
   "id": "5694d0e7-1d8c-4be5-85e4-6b2957475d13",
   "metadata": {},
   "outputs": [
    {
     "name": "stdout",
     "output_type": "stream",
     "text": [
      "Ram\n",
      "78\n",
      "Kathmandu\n"
     ]
    }
   ],
   "source": [
    "# detail of Ram\n",
    "print(d['name'][0])\n",
    "print(d['age'][0])\n",
    "print(d['add'][0])"
   ]
  },
  {
   "cell_type": "code",
   "execution_count": 43,
   "id": "d138446f-70a3-4e2a-b8e4-4a056fed9d2d",
   "metadata": {},
   "outputs": [],
   "source": [
    "# del data of Ram\n",
    "del d['name'][0]\n",
    "del d['age'][0]\n",
    "del d['add'][0]"
   ]
  },
  {
   "cell_type": "code",
   "execution_count": 44,
   "id": "f6512a84-0f57-4c29-9e2c-d7a8771cdf30",
   "metadata": {},
   "outputs": [
    {
     "data": {
      "text/plain": [
       "{'name': ['Shyam'], 'age': [23], 'add': ['Jhapa']}"
      ]
     },
     "execution_count": 44,
     "metadata": {},
     "output_type": "execute_result"
    }
   ],
   "source": [
    "d"
   ]
  },
  {
   "cell_type": "code",
   "execution_count": 45,
   "id": "3ddbecc8-c694-4ef9-9659-fcc086d7b6fa",
   "metadata": {},
   "outputs": [
    {
     "data": {
      "text/plain": [
       "[{'name': 'Shyam', 'age': 23, 'add': 'Jhapa'},\n",
       " {'name': 'Hari', 'age': 78, 'add': 'Kathmandu'},\n",
       " {'name': 'Ram', 'age': 13, 'add': 'Palpa'}]"
      ]
     },
     "execution_count": 45,
     "metadata": {},
     "output_type": "execute_result"
    }
   ],
   "source": [
    "# dict inside list\n",
    "l = [{'name': 'Shyam', 'age': 23, 'add': 'Jhapa'},\n",
    "    {'name': 'Hari', 'age': 78, 'add': 'Kathmandu'},\n",
    "    {'name': 'Ram', 'age': 13, 'add': 'Palpa'}]\n",
    "l"
   ]
  },
  {
   "cell_type": "code",
   "execution_count": 48,
   "id": "72791eb0-c7b7-4b44-b9ef-da0fff3c42a6",
   "metadata": {},
   "outputs": [
    {
     "name": "stdin",
     "output_type": "stream",
     "text": [
      "Enter n =  2\n",
      "Enter name =  Ram\n",
      "Enter age =  67\n",
      "Enter add =  Kathmandu\n",
      "Enter name =  Shyam\n",
      "Enter age =  67\n",
      "Enter add =  Lalitpur\n"
     ]
    },
    {
     "data": {
      "text/plain": [
       "[{'name': 'Ram', 'age': 67, 'add': 'Kathmandu'},\n",
       " {'name': 'Shyam', 'age': 67, 'add': 'Lalitpur'}]"
      ]
     },
     "execution_count": 48,
     "metadata": {},
     "output_type": "execute_result"
    }
   ],
   "source": [
    "l = []\n",
    "n = int(input(\"Enter n = \"))\n",
    "for i in range(n):\n",
    "    name = input(\"Enter name = \")\n",
    "    age = int(input(\"Enter age = \"))\n",
    "    add = input(\"Enter add = \")\n",
    "    d = {'name':name,'age':age,'add':add}\n",
    "    l.append(d)\n",
    "l"
   ]
  },
  {
   "cell_type": "code",
   "execution_count": 50,
   "id": "fd4e1615-13cc-4500-b580-50b01be682dc",
   "metadata": {},
   "outputs": [
    {
     "data": {
      "text/plain": [
       "'Ram'"
      ]
     },
     "execution_count": 50,
     "metadata": {},
     "output_type": "execute_result"
    }
   ],
   "source": [
    "l[0]['name']"
   ]
  },
  {
   "cell_type": "code",
   "execution_count": null,
   "id": "146bb9ee-2e0a-43c6-928f-1cf44d7c99c4",
   "metadata": {},
   "outputs": [],
   "source": []
  },
  {
   "cell_type": "code",
   "execution_count": null,
   "id": "69377ded-b81f-497c-b98f-cdc829645a76",
   "metadata": {},
   "outputs": [],
   "source": [
    "# dict inside dict\n",
    "l = {1:{'name': 'Shyam', 'age': 23, 'add': 'Jhapa'},\n",
    "    2:{'name': 'Hari', 'age': 78, 'add': 'Kathmandu'},\n",
    "    3:{'name': 'Ram', 'age': 13, 'add': 'Palpa'}}"
   ]
  }
 ],
 "metadata": {
  "kernelspec": {
   "display_name": "Python 3 (ipykernel)",
   "language": "python",
   "name": "python3"
  },
  "language_info": {
   "codemirror_mode": {
    "name": "ipython",
    "version": 3
   },
   "file_extension": ".py",
   "mimetype": "text/x-python",
   "name": "python",
   "nbconvert_exporter": "python",
   "pygments_lexer": "ipython3",
   "version": "3.11.7"
  }
 },
 "nbformat": 4,
 "nbformat_minor": 5
}
