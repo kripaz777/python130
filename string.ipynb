{
 "cells": [
  {
   "cell_type": "code",
   "execution_count": 1,
   "id": "bb8e6877-6c56-48ec-8fb2-058817afbe18",
   "metadata": {},
   "outputs": [
    {
     "name": "stdout",
     "output_type": "stream",
     "text": [
      "<class 'str'>\n",
      "<class 'str'>\n",
      "<class 'str'>\n"
     ]
    }
   ],
   "source": [
    "a = 'Hello World'\n",
    "b = \"Hello World\"\n",
    "c = '''Hello World'''\n",
    "\n",
    "print(type(a))\n",
    "print(type(b))\n",
    "print(type(c))"
   ]
  },
  {
   "cell_type": "code",
   "execution_count": 2,
   "id": "59f2e56f-517b-4c53-8c19-f3a026577612",
   "metadata": {},
   "outputs": [
    {
     "name": "stdout",
     "output_type": "stream",
     "text": [
      "Hello World\n"
     ]
    }
   ],
   "source": [
    "a = \"Hello \"\n",
    "b = \"World\"\n",
    "c = a+b\n",
    "print(c)"
   ]
  },
  {
   "cell_type": "code",
   "execution_count": 4,
   "id": "6181fb61-16e2-46ca-abb0-20b58ad40bac",
   "metadata": {},
   "outputs": [
    {
     "name": "stdout",
     "output_type": "stream",
     "text": [
      "Hello World\n",
      "Hello World\n",
      "\n"
     ]
    }
   ],
   "source": [
    "a = \"Hello World\\n\"\n",
    "print(a*2)"
   ]
  },
  {
   "cell_type": "code",
   "execution_count": 6,
   "id": "74d49fb7-80c8-4aa5-bd74-2d5068fbc638",
   "metadata": {},
   "outputs": [
    {
     "name": "stdout",
     "output_type": "stream",
     "text": [
      "Hello World"
     ]
    }
   ],
   "source": [
    "a = \"Hello World\"\n",
    "for i in a:\n",
    "    print(i,end = \"\")"
   ]
  },
  {
   "cell_type": "code",
   "execution_count": 9,
   "id": "20d3c81e-77d2-4a37-b627-4a2e1c7d94f6",
   "metadata": {},
   "outputs": [
    {
     "name": "stdout",
     "output_type": "stream",
     "text": [
      "H\n",
      "Hello\n",
      "HloWrd\n"
     ]
    }
   ],
   "source": [
    "# string slicing\n",
    "a = \"Hello World\"\n",
    "print(a[0])\n",
    "print(a[0:5])\n",
    "print(a[0:11:2])"
   ]
  },
  {
   "cell_type": "code",
   "execution_count": 13,
   "id": "50443560-fe3d-483a-bb0a-c75382f29b4b",
   "metadata": {},
   "outputs": [
    {
     "name": "stdout",
     "output_type": "stream",
     "text": [
      "d\n",
      "dlroW olleH\n",
      "dlroW olleH\n"
     ]
    }
   ],
   "source": [
    "a = \"Hello World\"\n",
    "print(a[-1])\n",
    "print(a[-1:-12:-1])\n",
    "print(a[::-1])"
   ]
  },
  {
   "cell_type": "code",
   "execution_count": 15,
   "id": "b635f63b-3e21-4a6f-bee7-07baf5181ff7",
   "metadata": {},
   "outputs": [
    {
     "name": "stdout",
     "output_type": "stream",
     "text": [
      "11\n"
     ]
    }
   ],
   "source": [
    "a = \"Hello World\"\n",
    "count = len(a)\n",
    "print(count)"
   ]
  },
  {
   "cell_type": "code",
   "execution_count": 18,
   "id": "a1d87252-d16a-43c6-ab0f-97ecd40417f3",
   "metadata": {},
   "outputs": [
    {
     "name": "stdout",
     "output_type": "stream",
     "text": [
      "Hello World"
     ]
    }
   ],
   "source": [
    "a = \"Hello World\"\n",
    "l = len(a)\n",
    "for i in range(l):\n",
    "    print(a[i], end = \"\")"
   ]
  },
  {
   "cell_type": "code",
   "execution_count": 19,
   "id": "1fd220fd-d21b-49f1-8292-7fc082282acc",
   "metadata": {},
   "outputs": [
    {
     "name": "stdout",
     "output_type": "stream",
     "text": [
      "Hello World"
     ]
    }
   ],
   "source": [
    "i = 0\n",
    "a = \"Hello World\"\n",
    "l = len(a)\n",
    "while i<l:\n",
    "    print(a[i], end = \"\")\n",
    "    i = i+1"
   ]
  },
  {
   "cell_type": "code",
   "execution_count": 20,
   "id": "5552e629-a6dc-45af-b8ee-050a240b1cc9",
   "metadata": {},
   "outputs": [
    {
     "name": "stdout",
     "output_type": "stream",
     "text": [
      "Hello World I am Ram. I am from Kathmandu. I am 40\n"
     ]
    }
   ],
   "source": [
    "# string formatting\n",
    "name = \"Ram\"\n",
    "age = 40\n",
    "add = \"Kathmandu\"\n",
    "\n",
    "info = f\"Hello World I am {name}. I am from {add}. I am {age}\" \n",
    "print(info)"
   ]
  },
  {
   "cell_type": "code",
   "execution_count": null,
   "id": "10a7f39e-1446-4b86-b0f9-ebc42919888b",
   "metadata": {},
   "outputs": [],
   "source": [
    "all_total = 0\n",
    "info = \"\"\n",
    "n = int(input(\"Enter n = \"))\n",
    "for i in range(n):\n",
    "    name = input(\"Enter product name = \")\n",
    "    price = int(input(\"Enter price = \"))\n",
    "    qty = int(input(\"Enter quantity = \"))\n",
    "    total = price * qty\n",
    "    info = info + f\"{name}  {price} {qty} {total}\\n\"\n",
    "    all_total = all_total + total\n",
    "print(info)\n",
    "print(all_total)"
   ]
  },
  {
   "cell_type": "code",
   "execution_count": 23,
   "id": "71186df4-9a1a-4493-8165-9db48855f89a",
   "metadata": {},
   "outputs": [
    {
     "name": "stdin",
     "output_type": "stream",
     "text": [
      "Enter name =  ram\n"
     ]
    },
    {
     "name": "stdout",
     "output_type": "stream",
     "text": [
      "No\n"
     ]
    }
   ],
   "source": [
    "# search in string\n",
    "name = \"Ram Shyam Hari Sita Gita Akash Nabin Nilam\"\n",
    "search = input(\"Enter name = \")\n",
    "if search in name:\n",
    "    print(\"Yes\",name.count(search))\n",
    "else:\n",
    "    print(\"No\")"
   ]
  },
  {
   "cell_type": "code",
   "execution_count": 29,
   "id": "d7d2d9ac-7cc1-48c7-bc01-0a2b27d69f66",
   "metadata": {},
   "outputs": [
    {
     "name": "stdout",
     "output_type": "stream",
     "text": [
      "RAM SHYAM HARI SITA GITA AKASH NABIN NILAM\n",
      "ram shyam hari sita gita akash nabin nilam\n",
      "Ram Shyam Hari Sita Gita Akash Nabin Nilam\n"
     ]
    }
   ],
   "source": [
    "name = \"Ram Shyam Hari Sita Gita Akash Nabin Nilam\"\n",
    "print(name.upper())\n",
    "print(name.lower())\n",
    "print(name)"
   ]
  },
  {
   "cell_type": "code",
   "execution_count": 27,
   "id": "45db7bd8-5870-4ce7-971c-d558cad1a141",
   "metadata": {},
   "outputs": [
    {
     "name": "stdin",
     "output_type": "stream",
     "text": [
      "Enter name =  ram\n"
     ]
    },
    {
     "name": "stdout",
     "output_type": "stream",
     "text": [
      "Yes 2\n"
     ]
    }
   ],
   "source": [
    "# search in string\n",
    "name = \"Ram Shyam Hari Sita Gita Akash Nabin Nilam Ramesh\".lower()\n",
    "search = input(\"Enter name = \").lower()\n",
    "if search in name:\n",
    "    print(\"Yes\",name.count(search))\n",
    "else:\n",
    "    print(\"No\")"
   ]
  },
  {
   "cell_type": "code",
   "execution_count": 31,
   "id": "0ff63a1d-c0a2-4e99-bcc4-6abb31100896",
   "metadata": {},
   "outputs": [
    {
     "name": "stdout",
     "output_type": "stream",
     "text": [
      "Ram Shyam Harry Sita Gita Akash Nabin Nilam\n"
     ]
    }
   ],
   "source": [
    "#replace()\n",
    "name = \"Ram Shyam Hari Sita Gita Akash Nabin Nilam\"\n",
    "name = name.replace(\"Hari\",\"Harry\")\n",
    "print(name)"
   ]
  },
  {
   "cell_type": "code",
   "execution_count": 32,
   "id": "f2edf012-bd43-4f33-aa8a-97c21eb7fbd1",
   "metadata": {},
   "outputs": [
    {
     "name": "stdout",
     "output_type": "stream",
     "text": [
      "Ram Shyam  Sita Gita Akash Nabin Nilam\n"
     ]
    }
   ],
   "source": [
    "#replace or delete\n",
    "name = \"Ram Shyam Hari Sita Gita Akash Nabin Nilam\"\n",
    "name = name.replace(\"Hari\",\"\")\n",
    "print(name)"
   ]
  },
  {
   "cell_type": "code",
   "execution_count": 33,
   "id": "8e4305b5-9728-4223-a892-c8296448c6e5",
   "metadata": {},
   "outputs": [
    {
     "data": {
      "text/plain": [
       "['Ram', 'Shyam', 'Hari', 'Sita', 'Gita', 'Akash', 'Nabin', 'Nilam']"
      ]
     },
     "execution_count": 33,
     "metadata": {},
     "output_type": "execute_result"
    }
   ],
   "source": [
    "name = \"Ram Shyam Hari Sita Gita Akash Nabin Nilam\"\n",
    "name.split()"
   ]
  },
  {
   "cell_type": "code",
   "execution_count": null,
   "id": "be7d693a-ff60-48bc-87a5-007b7be899f8",
   "metadata": {},
   "outputs": [],
   "source": []
  }
 ],
 "metadata": {
  "kernelspec": {
   "display_name": "Python 3 (ipykernel)",
   "language": "python",
   "name": "python3"
  },
  "language_info": {
   "codemirror_mode": {
    "name": "ipython",
    "version": 3
   },
   "file_extension": ".py",
   "mimetype": "text/x-python",
   "name": "python",
   "nbconvert_exporter": "python",
   "pygments_lexer": "ipython3",
   "version": "3.11.7"
  }
 },
 "nbformat": 4,
 "nbformat_minor": 5
}
