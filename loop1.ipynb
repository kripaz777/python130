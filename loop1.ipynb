{
 "cells": [
  {
   "cell_type": "code",
   "execution_count": 3,
   "id": "deb78604-e26b-4be9-93d5-70014a64c6e0",
   "metadata": {},
   "outputs": [
    {
     "name": "stdin",
     "output_type": "stream",
     "text": [
      "Enter n =  2\n",
      "Enter product name =  Apple\n",
      "Enter price =  100\n",
      "Enter quantity =  3\n",
      "Enter product name =  Banana\n",
      "Enter price =  200\n",
      "Enter quantity =  4\n"
     ]
    },
    {
     "name": "stdout",
     "output_type": "stream",
     "text": [
      "Apple 100 3 300\n",
      "Banana 200 4 800\n",
      "\n",
      "1100\n"
     ]
    }
   ],
   "source": [
    "all_total = 0\n",
    "info = \"\"\n",
    "n = int(input(\"Enter n = \"))\n",
    "for i in range(n):\n",
    "    name = input(\"Enter product name = \")\n",
    "    price = int(input(\"Enter price = \"))\n",
    "    qty = int(input(\"Enter quantity = \"))\n",
    "    total = price * qty\n",
    "    info = info + name + \" \" + str(price) + \" \" + str(qty) + \" \" +str(total) + \"\\n\"\n",
    "    all_total = all_total + total\n",
    "print(info)\n",
    "print(all_total)"
   ]
  },
  {
   "cell_type": "code",
   "execution_count": 4,
   "id": "d9eab978-4482-498c-b1b8-303d1f11f47d",
   "metadata": {},
   "outputs": [],
   "source": [
    "# for loop in string"
   ]
  },
  {
   "cell_type": "code",
   "execution_count": 9,
   "id": "dfb886bd-198b-4105-bfb1-8ddda0cc4654",
   "metadata": {},
   "outputs": [
    {
     "name": "stdout",
     "output_type": "stream",
     "text": [
      "Hello World"
     ]
    }
   ],
   "source": [
    "a = \"Hello World\"\n",
    "for i in a:\n",
    "    print(i,end = \"\")"
   ]
  },
  {
   "cell_type": "code",
   "execution_count": 11,
   "id": "88beb03d-7dee-42e4-b28c-5f0ef61691d2",
   "metadata": {},
   "outputs": [
    {
     "name": "stdout",
     "output_type": "stream",
     "text": [
      "H Hello World\n",
      "e Hello World\n",
      "l Hello World\n",
      "l Hello World\n",
      "o Hello World\n",
      "  Hello World\n",
      "W Hello World\n",
      "o Hello World\n",
      "r Hello World\n",
      "l Hello World\n",
      "d Hello World\n"
     ]
    }
   ],
   "source": [
    "a = \"Hello World\"\n",
    "for i in a:\n",
    "    print(i,\"Hello World\")"
   ]
  },
  {
   "cell_type": "code",
   "execution_count": 12,
   "id": "1ac274ce-6c30-4dea-ab0e-c5376635ec7a",
   "metadata": {},
   "outputs": [
    {
     "name": "stdout",
     "output_type": "stream",
     "text": [
      "11\n"
     ]
    }
   ],
   "source": [
    "a = \"Hello World\"\n",
    "print(len(a))"
   ]
  },
  {
   "cell_type": "code",
   "execution_count": 16,
   "id": "52a7eee2-7d9a-4880-bf7c-8d4aae2d117b",
   "metadata": {},
   "outputs": [
    {
     "name": "stdout",
     "output_type": "stream",
     "text": [
      "Hello World I am Python"
     ]
    }
   ],
   "source": [
    "a = \"Hello World. I am Python.\"\n",
    "for i in a:\n",
    "    if i != \".\":\n",
    "        print(i,end = \"\")"
   ]
  },
  {
   "cell_type": "code",
   "execution_count": 17,
   "id": "932c25fc-d4d2-4c93-b508-d6a7dabd118c",
   "metadata": {},
   "outputs": [
    {
     "name": "stdout",
     "output_type": "stream",
     "text": [
      "Hello World I am Python"
     ]
    }
   ],
   "source": [
    "a = \"Hello World. I am Python!\"\n",
    "for i in a:\n",
    "    if i != \".\" and i != \"!\":\n",
    "        print(i,end = \"\")"
   ]
  },
  {
   "cell_type": "code",
   "execution_count": 18,
   "id": "86eca0d8-7382-4e63-b905-acf1fc3987b9",
   "metadata": {},
   "outputs": [],
   "source": [
    "# control statement\n",
    "#break\n",
    "#continue\n",
    "#pass"
   ]
  },
  {
   "cell_type": "code",
   "execution_count": 19,
   "id": "0a36bc26-3411-427a-ae71-b85e169b36cf",
   "metadata": {},
   "outputs": [],
   "source": [
    "# break"
   ]
  },
  {
   "cell_type": "code",
   "execution_count": 21,
   "id": "ff610921-3430-41cf-a0dc-1df253057626",
   "metadata": {},
   "outputs": [
    {
     "name": "stdout",
     "output_type": "stream",
     "text": [
      "0\n",
      "1\n",
      "2\n",
      "3\n",
      "4\n"
     ]
    }
   ],
   "source": [
    "n = 10\n",
    "for i in range(10):\n",
    "    if i == 5:\n",
    "        break\n",
    "    print(i)"
   ]
  },
  {
   "cell_type": "code",
   "execution_count": 27,
   "id": "be32ab98-13c3-4e54-9687-a7d3d18df50b",
   "metadata": {},
   "outputs": [
    {
     "name": "stdout",
     "output_type": "stream",
     "text": [
      "Hello World"
     ]
    }
   ],
   "source": [
    "a = \"Hello World. I am Python\"\n",
    "for i in a:\n",
    "    if i == \".\":\n",
    "        break\n",
    "        \n",
    "    print(i, end = \"\")"
   ]
  },
  {
   "cell_type": "code",
   "execution_count": 29,
   "id": "3d1db9e2-fdec-4e81-bbf7-ce23198e502e",
   "metadata": {},
   "outputs": [
    {
     "name": "stdout",
     "output_type": "stream",
     "text": [
      "0 1 2 3 4 6 7 8 9 "
     ]
    }
   ],
   "source": [
    "n = 10\n",
    "for i in range(10): #0,1,2,3,4,5,6,7,8,9\n",
    "    if i == 5:\n",
    "        continue\n",
    "    print(i,end = \" \")"
   ]
  },
  {
   "cell_type": "code",
   "execution_count": 31,
   "id": "1e159837-077d-4a1b-afb5-f99aa9771639",
   "metadata": {},
   "outputs": [
    {
     "name": "stdout",
     "output_type": "stream",
     "text": [
      "Hello World I am Python"
     ]
    }
   ],
   "source": [
    "a = \"Hello World. I am Python.\"\n",
    "for i in a:\n",
    "    if i == \".\":\n",
    "        continue\n",
    "        \n",
    "    print(i, end = \"\")"
   ]
  },
  {
   "cell_type": "code",
   "execution_count": 35,
   "id": "27a8dcb8-aa10-4f43-a12b-c7dd4596b691",
   "metadata": {},
   "outputs": [],
   "source": [
    "# pass\n",
    "for i in range(5):\n",
    "    pass"
   ]
  },
  {
   "cell_type": "code",
   "execution_count": 1,
   "id": "753b6a0c-b3f8-4e1c-b5d4-0bd1024f1cfa",
   "metadata": {},
   "outputs": [],
   "source": [
    "# while loop"
   ]
  },
  {
   "cell_type": "code",
   "execution_count": 2,
   "id": "2a83d510-e9d6-4842-8b4c-fa7f35a4aaed",
   "metadata": {},
   "outputs": [],
   "source": [
    "# while <condition>:\n",
    "#     <operations>"
   ]
  },
  {
   "cell_type": "code",
   "execution_count": 5,
   "id": "6bf6e4a3-c3bd-4bcd-a66a-69de433f056b",
   "metadata": {},
   "outputs": [
    {
     "name": "stdout",
     "output_type": "stream",
     "text": [
      "0 Hello World\n",
      "1 Hello World\n",
      "2 Hello World\n",
      "3 Hello World\n",
      "4 Hello World\n",
      "5 Hello World\n"
     ]
    }
   ],
   "source": [
    "a = 0\n",
    "while a <= 5:\n",
    "    print(a,\"Hello World\")\n",
    "    a = a + 1"
   ]
  },
  {
   "cell_type": "code",
   "execution_count": 6,
   "id": "742882b1-f3a8-4b69-b14b-9e4e66431c97",
   "metadata": {},
   "outputs": [
    {
     "name": "stdout",
     "output_type": "stream",
     "text": [
      "1 Hello World\n",
      "2 Hello World\n",
      "3 Hello World\n",
      "4 Hello World\n",
      "5 Hello World\n"
     ]
    }
   ],
   "source": [
    "a = 1\n",
    "while a <= 5:\n",
    "    print(a,\"Hello World\")\n",
    "    a = a + 1"
   ]
  },
  {
   "cell_type": "code",
   "execution_count": 7,
   "id": "7c4c9671-7e45-44bb-925f-a23552473d34",
   "metadata": {},
   "outputs": [
    {
     "name": "stdout",
     "output_type": "stream",
     "text": [
      "1 Hello World\n",
      "3 Hello World\n",
      "5 Hello World\n"
     ]
    }
   ],
   "source": [
    "a = 1\n",
    "while a <= 5:\n",
    "    print(a,\"Hello World\")\n",
    "    a = a + 2"
   ]
  },
  {
   "cell_type": "code",
   "execution_count": 9,
   "id": "08c71933-da87-4137-b10d-79c4d5bcc51e",
   "metadata": {},
   "outputs": [
    {
     "name": "stdout",
     "output_type": "stream",
     "text": [
      "5 Hello World\n",
      "4 Hello World\n",
      "3 Hello World\n",
      "2 Hello World\n",
      "1 Hello World\n",
      "0 Hello World\n"
     ]
    }
   ],
   "source": [
    "a = 5\n",
    "while a>=0:\n",
    "    print(a,\"Hello World\")\n",
    "    a = a-1"
   ]
  },
  {
   "cell_type": "code",
   "execution_count": 10,
   "id": "e5f02227-7416-4f67-925e-9f1dd693ffb5",
   "metadata": {},
   "outputs": [
    {
     "name": "stdin",
     "output_type": "stream",
     "text": [
      "Enter n =  5\n"
     ]
    },
    {
     "name": "stdout",
     "output_type": "stream",
     "text": [
      "5 * 1 = 5\n",
      "5 * 2 = 10\n",
      "5 * 3 = 15\n",
      "5 * 4 = 20\n",
      "5 * 5 = 25\n",
      "5 * 6 = 30\n",
      "5 * 7 = 35\n",
      "5 * 8 = 40\n",
      "5 * 9 = 45\n",
      "5 * 10 = 50\n"
     ]
    }
   ],
   "source": [
    "i = 1\n",
    "n = int(input(\"Enter n = \"))\n",
    "while i<=10:\n",
    "    print(n,\"*\",i,\"=\",n*i)\n",
    "    i = i+1"
   ]
  },
  {
   "cell_type": "code",
   "execution_count": 11,
   "id": "28b8841f-a5e2-40c0-8481-00404d6e724b",
   "metadata": {},
   "outputs": [
    {
     "name": "stdin",
     "output_type": "stream",
     "text": [
      "Enter n=  5\n",
      "Enter x =  100\n",
      "Enter x =  200\n",
      "Enter x =  345\n",
      "Enter x =  321\n",
      "Enter x =  456\n"
     ]
    },
    {
     "name": "stdout",
     "output_type": "stream",
     "text": [
      "1422\n"
     ]
    }
   ],
   "source": [
    "i = 0\n",
    "s = 0\n",
    "n = int(input(\"Enter n= \"))\n",
    "while i<n:\n",
    "    x = int(input(\"Enter x = \"))\n",
    "    s = s + x\n",
    "    i = i + 1\n",
    "\n",
    "print(s)"
   ]
  },
  {
   "cell_type": "code",
   "execution_count": 12,
   "id": "f8f6a5a4-fe20-4855-9dfb-e2efc11e688d",
   "metadata": {},
   "outputs": [
    {
     "name": "stdin",
     "output_type": "stream",
     "text": [
      "Enter n=  5\n",
      "Enter x =  Ram\n",
      "Enter x =  Shyam\n",
      "Enter x =  Hari\n",
      "Enter x =  Sita\n",
      "Enter x =  Gita\n"
     ]
    },
    {
     "name": "stdout",
     "output_type": "stream",
     "text": [
      "Ram\n",
      "Shyam\n",
      "Hari\n",
      "Sita\n",
      "Gita\n",
      "\n"
     ]
    }
   ],
   "source": [
    "i = 0\n",
    "s = \"\"\n",
    "n = int(input(\"Enter n= \"))\n",
    "while i<n:\n",
    "    x = input(\"Enter x = \")\n",
    "    s = s + x + \"\\n\"\n",
    "    i = i + 1\n",
    "\n",
    "print(s)"
   ]
  },
  {
   "cell_type": "code",
   "execution_count": 13,
   "id": "689dee14-c47c-42c3-91e9-2daa8ba20bae",
   "metadata": {},
   "outputs": [
    {
     "name": "stdin",
     "output_type": "stream",
     "text": [
      "Enter n =  5\n"
     ]
    },
    {
     "name": "stdout",
     "output_type": "stream",
     "text": [
      "120\n"
     ]
    }
   ],
   "source": [
    "# factorial\n",
    "# 5! = 1*2*3*4*5\n",
    "i = 1\n",
    "fac = 1\n",
    "n = int(input(\"Enter n = \"))\n",
    "while i<=n:\n",
    "    fac = fac * i\n",
    "    i = i + 1\n",
    "\n",
    "print(fac)"
   ]
  },
  {
   "cell_type": "code",
   "execution_count": 14,
   "id": "612221ec-f746-472f-ac8b-5ca2331e2b2a",
   "metadata": {},
   "outputs": [],
   "source": [
    "# control statement\n",
    "#break\n",
    "#continue\n",
    "#pass"
   ]
  },
  {
   "cell_type": "code",
   "execution_count": 16,
   "id": "6df22653-f38c-4406-89f6-76ac487e7b61",
   "metadata": {},
   "outputs": [
    {
     "name": "stdout",
     "output_type": "stream",
     "text": [
      "0\n",
      "1\n",
      "2\n",
      "3\n",
      "4\n"
     ]
    }
   ],
   "source": [
    "i = 0\n",
    "while i<=10:\n",
    "    if i == 5:\n",
    "        break\n",
    "    print(i)\n",
    "    i = i + 1"
   ]
  },
  {
   "cell_type": "code",
   "execution_count": 2,
   "id": "aa2f0aca-67e1-4718-9b14-680e040d1b9a",
   "metadata": {},
   "outputs": [
    {
     "name": "stdout",
     "output_type": "stream",
     "text": [
      "0 1 2 3 4 6 7 8 9 10 "
     ]
    }
   ],
   "source": [
    "i = 0\n",
    "while i<=10:\n",
    "    if i == 5:\n",
    "        i = i+1\n",
    "        continue\n",
    "        \n",
    "    print(i, end = \" \")\n",
    "    i = i + 1"
   ]
  },
  {
   "cell_type": "code",
   "execution_count": 3,
   "id": "f01b4c25-21fd-4c97-b641-127389dd54a8",
   "metadata": {},
   "outputs": [],
   "source": [
    "# for else loop"
   ]
  },
  {
   "cell_type": "code",
   "execution_count": 4,
   "id": "52365115-f0eb-4435-a8be-964f381e6d2b",
   "metadata": {},
   "outputs": [],
   "source": [
    "# prime no : 2,3,5,7,11,13,17,19\n",
    "# composite no: 4,6,8,9,10,12"
   ]
  },
  {
   "cell_type": "code",
   "execution_count": 8,
   "id": "c19e73de-06c5-4f0d-b974-e919f6d41267",
   "metadata": {},
   "outputs": [
    {
     "name": "stdin",
     "output_type": "stream",
     "text": [
      "Enter n =  3\n"
     ]
    },
    {
     "name": "stdout",
     "output_type": "stream",
     "text": [
      "Prime no\n"
     ]
    }
   ],
   "source": [
    "n = int(input(\"Enter n = \"))\n",
    "for i in range(2,n):\n",
    "    if n%i==0:\n",
    "        print(\"Composite No\")\n",
    "        break\n",
    "else:\n",
    "    print(\"Prime no\")"
   ]
  },
  {
   "cell_type": "code",
   "execution_count": null,
   "id": "6a8cc80e-9106-44e6-a476-0a2ad50f10bd",
   "metadata": {},
   "outputs": [],
   "source": [
    "# Next string"
   ]
  }
 ],
 "metadata": {
  "kernelspec": {
   "display_name": "Python 3 (ipykernel)",
   "language": "python",
   "name": "python3"
  },
  "language_info": {
   "codemirror_mode": {
    "name": "ipython",
    "version": 3
   },
   "file_extension": ".py",
   "mimetype": "text/x-python",
   "name": "python",
   "nbconvert_exporter": "python",
   "pygments_lexer": "ipython3",
   "version": "3.11.7"
  }
 },
 "nbformat": 4,
 "nbformat_minor": 5
}
