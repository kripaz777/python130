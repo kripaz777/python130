{
 "cells": [
  {
   "cell_type": "code",
   "execution_count": 1,
   "id": "d9ce06fa-eed7-4d39-8b19-e0dbd7c88b0e",
   "metadata": {},
   "outputs": [
    {
     "name": "stdout",
     "output_type": "stream",
     "text": [
      "Requirement already satisfied: mysql-connector-python in c:\\users\\aayush\\anaconda3\\lib\\site-packages (8.4.0)\n"
     ]
    }
   ],
   "source": [
    "!pip install mysql-connector-python"
   ]
  },
  {
   "cell_type": "code",
   "execution_count": 2,
   "id": "85196f91-4313-40ff-a92e-579fe33f3a5e",
   "metadata": {},
   "outputs": [],
   "source": [
    "import mysql.connector  \t\t#importing database\n",
    "database = mysql.connector.connect(\n",
    "    host=\"localhost\",\n",
    "    user=\"root\",\n",
    "    password=\"\",\n",
    "   database = \"python3pm\")\n",
    "\n",
    "db = database.cursor()"
   ]
  },
  {
   "cell_type": "code",
   "execution_count": 4,
   "id": "81310b0c-e55f-4063-a026-012ead81342c",
   "metadata": {},
   "outputs": [
    {
     "name": "stdout",
     "output_type": "stream",
     "text": [
      "(1, 'Rama', 89, 97, 86, 67, 89, 420, 82.5, 'A')\n",
      "(3, 'Nabin', 82, 84, 99, 98, 89, 430, 88.5, 'A')\n",
      "(4, 'Shiva', 49, 57, 25, 98, 89, 400, 70.0, 'A')\n",
      "(10, 'Sameer', 89, 67, 80, 98, 89, 412, 82.5, 'A')\n",
      "(11, 'Rama', 89, 45, 65, 87, 78, 364, 72.8, 'B')\n",
      "(12, 'Ram', 87, 90, 65, 78, 87, 407, 81.4, 'A')\n",
      "(13, 'Gauri', 98, 78, 90, 87, 78, 431, 86.2, 'A')\n",
      "(15, 'Hari', 78, 87, 99, 67, 65, 412, 85.0, 'A')\n",
      "(40, 'Hari', 89, 89, 89, 78, 87, 412, 83.0, 'A')\n"
     ]
    }
   ],
   "source": [
    "#read data from table\n",
    "db.execute(\"SELECT * FROM student\")\n",
    "result =db.fetchall()\n",
    "for x in result:\n",
    "    print(x)\n"
   ]
  },
  {
   "cell_type": "code",
   "execution_count": 4,
   "id": "db23884d-83ad-40be-9d25-bec77537ed12",
   "metadata": {},
   "outputs": [],
   "source": [
    "sql = '''INSERT INTO student (sn, name, physics, chemistry, math, english, nepali, total, per, grade)\n",
    "VALUES (24, 'Sajan', 89, 67, 98, 78, 89, 412, 80, 'A'); '''\n",
    "db.execute(sql)\n",
    "database.commit()"
   ]
  },
  {
   "cell_type": "code",
   "execution_count": 2,
   "id": "93653eaa-e111-4073-b026-b87442c1e88c",
   "metadata": {},
   "outputs": [
    {
     "name": "stdin",
     "output_type": "stream",
     "text": [
      "Enter n =  1\n",
      "Enter name =  Akash\n",
      "Enter physics marks =  89\n",
      "Enter chemistry marks =  90\n",
      "Enter math marks =  32\n",
      "Enter english marks =  89\n",
      "Enter nepali marks =  67\n"
     ]
    }
   ],
   "source": [
    "n = int(input(\"Enter n = \"))\n",
    "for i in range(1,n+1):\n",
    "    name = input(\"Enter name = \")\n",
    "    physics=int(input(\"Enter physics marks = \"))\n",
    "    chemistry=int(input(\"Enter chemistry marks = \"))\n",
    "    math=int(input(\"Enter math marks = \"))\n",
    "    english=int(input(\"Enter english marks = \"))\n",
    "    nepali=int(input(\"Enter nepali marks = \"))\n",
    "    \n",
    "    total = physics + chemistry + math + english + nepali\n",
    "    per = total/5\n",
    "    if per >= 80:\n",
    "        grade = 'A'\n",
    "    elif per >= 60:\n",
    "        grade = 'B'\n",
    "    elif per >= 45:\n",
    "        grade = 'C'\n",
    "    elif per >= 32:\n",
    "        grade = 'D'\n",
    "    else:\n",
    "        grade = 'F'\n",
    "\n",
    "    sql = f'''INSERT INTO student (name, physics, chemistry, math, english, nepali, total, per, grade)\n",
    "    VALUES ('{name}', {physics}, {chemistry}, {math}, {english}, {nepali}, {total}, {per}, '{grade}') '''\n",
    "    db.execute(sql)\n",
    "    \n",
    "database.commit()"
   ]
  },
  {
   "cell_type": "code",
   "execution_count": 5,
   "id": "5e7c82b7-4d4a-4135-b0f8-317224b95d33",
   "metadata": {},
   "outputs": [],
   "source": [
    "# Update\n",
    "sql = '''UPDATE student SET per = 82.6 WHERE sn = 1'''\n",
    "db.execute(sql)\n",
    "database.commit()"
   ]
  },
  {
   "cell_type": "code",
   "execution_count": null,
   "id": "01852979-aaeb-407e-8135-600e79f9bdfb",
   "metadata": {},
   "outputs": [],
   "source": [
    "# delete\n",
    "sql = \"DELETE FROM student WHERE sn = 1\"\n",
    "db.execute(sql)\n",
    "database.commit()"
   ]
  },
  {
   "cell_type": "code",
   "execution_count": null,
   "id": "634913d5-8314-4d84-bc83-d87552706649",
   "metadata": {},
   "outputs": [],
   "source": []
  },
  {
   "cell_type": "code",
   "execution_count": null,
   "id": "eb32c71e-34d4-4221-a0ae-f9294ee3c0bc",
   "metadata": {},
   "outputs": [],
   "source": []
  }
 ],
 "metadata": {
  "kernelspec": {
   "display_name": "Python 3 (ipykernel)",
   "language": "python",
   "name": "python3"
  },
  "language_info": {
   "codemirror_mode": {
    "name": "ipython",
    "version": 3
   },
   "file_extension": ".py",
   "mimetype": "text/x-python",
   "name": "python",
   "nbconvert_exporter": "python",
   "pygments_lexer": "ipython3",
   "version": "3.11.7"
  }
 },
 "nbformat": 4,
 "nbformat_minor": 5
}
