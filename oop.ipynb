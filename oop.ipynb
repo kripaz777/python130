{
 "cells": [
  {
   "cell_type": "code",
   "execution_count": 2,
   "id": "0a803e14-dc8f-4489-a4de-72115eb6c1f6",
   "metadata": {},
   "outputs": [
    {
     "name": "stdout",
     "output_type": "stream",
     "text": [
      "Hello World\n"
     ]
    }
   ],
   "source": [
    "class Hello:                       #class\n",
    "    def hello(self):                   #method\n",
    "        print(\"Hello World\")\n",
    "\n",
    "obj = Hello()                      #object\n",
    "obj.hello()                        #class method"
   ]
  },
  {
   "cell_type": "code",
   "execution_count": 3,
   "id": "9275aee9-fd0c-41d9-b1ec-f29affd01945",
   "metadata": {},
   "outputs": [
    {
     "name": "stdout",
     "output_type": "stream",
     "text": [
      "Hello World\n"
     ]
    }
   ],
   "source": [
    "class Hello:                       #class\n",
    "    @staticmethod\n",
    "    def hello():                   #method\n",
    "        print(\"Hello World\")\n",
    "\n",
    "obj = Hello()                      #object\n",
    "obj.hello()                        #class method"
   ]
  },
  {
   "cell_type": "code",
   "execution_count": 6,
   "id": "479d74df-7429-42ae-b093-f8738428fbc4",
   "metadata": {},
   "outputs": [
    {
     "name": "stdout",
     "output_type": "stream",
     "text": [
      "100\n"
     ]
    }
   ],
   "source": [
    "class Area:\n",
    "    @staticmethod\n",
    "    def area(l,b):\n",
    "        a = l*b\n",
    "        print(a)\n",
    "\n",
    "obj = Area()\n",
    "l = 20\n",
    "b = 5\n",
    "obj.area(l,b)"
   ]
  },
  {
   "cell_type": "code",
   "execution_count": 1,
   "id": "d541665d-3190-44ee-a32d-50e2801b5984",
   "metadata": {},
   "outputs": [
    {
     "name": "stdout",
     "output_type": "stream",
     "text": [
      "100\n"
     ]
    }
   ],
   "source": [
    "class Area:\n",
    "    def __init__(self,l,b):\n",
    "        self.l = l\n",
    "        self.b = b\n",
    "        \n",
    "    def area(self):\n",
    "        a = self.l*self.b\n",
    "        print(a)\n",
    "\n",
    "l = 20\n",
    "b = 5\n",
    "obj = Area(l,b)\n",
    "obj.area()"
   ]
  },
  {
   "cell_type": "code",
   "execution_count": 3,
   "id": "b8fd6cf9-9f86-4b5d-9212-2f08bd747183",
   "metadata": {},
   "outputs": [
    {
     "name": "stdout",
     "output_type": "stream",
     "text": [
      "100\n",
      "200\n"
     ]
    }
   ],
   "source": [
    "class Cal:\n",
    "    def __init__(self,l,b,h):\n",
    "        self.l = l\n",
    "        self.b = b\n",
    "        self.h = h\n",
    "        \n",
    "    def area(self):\n",
    "        a = self.l*self.b\n",
    "        print(a)\n",
    "        \n",
    "    def volume(self):\n",
    "        v = self.l*self.b*self.h\n",
    "        print()\n",
    "\n",
    "l = 20\n",
    "b = 5\n",
    "h = 2\n",
    "obj = Cal(l,b,h)\n",
    "obj.area()\n",
    "obj.volume()"
   ]
  },
  {
   "cell_type": "code",
   "execution_count": null,
   "id": "024cbe1b-ec6c-4932-bc88-58f12de35a33",
   "metadata": {},
   "outputs": [],
   "source": [
    "class Cal:\n",
    "    def __init__(self):\n",
    "        self.l = int(input(\"Enter l = \"))\n",
    "        self.b = int(input(\"Enter b = \"))\n",
    "        self.h = int(input(\"Enter h = \"))\n",
    "        \n",
    "    def area(self):\n",
    "        a = self.l*self.b\n",
    "        print(a)\n",
    "        \n",
    "    def volume(self):\n",
    "        v = self.l*self.b*self.h\n",
    "        print()\n",
    "\n",
    "obj = Cal()\n",
    "obj.area()\n",
    "obj.volume()"
   ]
  },
  {
   "cell_type": "code",
   "execution_count": 4,
   "id": "b1810962-17de-4748-9418-4298a15aa2c8",
   "metadata": {},
   "outputs": [
    {
     "name": "stdin",
     "output_type": "stream",
     "text": [
      "Enter l =  100\n",
      "Enter b =  23\n",
      "Enter h =  2\n"
     ]
    },
    {
     "name": "stdout",
     "output_type": "stream",
     "text": [
      "2300\n",
      "4600\n"
     ]
    }
   ],
   "source": [
    "class Area:\n",
    "    def __init__(self,l,b):\n",
    "        self.l = l\n",
    "        self.b = b\n",
    "        \n",
    "    def area(self):\n",
    "        a = self.l*self.b\n",
    "        print(a)\n",
    "        \n",
    "class Volume:\n",
    "    def __init__(self,l,b,h):\n",
    "        self.l = l\n",
    "        self.b = b\n",
    "        self.h = h\n",
    "    def volume(self):\n",
    "        v = self.l*self.b*self.h\n",
    "        print(v)\n",
    "        \n",
    "l = int(input(\"Enter l = \"))\n",
    "b = int(input(\"Enter b = \"))\n",
    "h = int(input(\"Enter h = \"))\n",
    "obj1 = Area(l,b)\n",
    "obj2 = Volume(l,b,h)\n",
    "obj1.area()\n",
    "obj2.volume()"
   ]
  },
  {
   "cell_type": "code",
   "execution_count": 2,
   "id": "0d1fb3cd-208d-490d-a303-9ef68837be2f",
   "metadata": {},
   "outputs": [
    {
     "name": "stdout",
     "output_type": "stream",
     "text": [
      "Ram\n",
      "<class '__main__.Info'>\n"
     ]
    }
   ],
   "source": [
    "# str method\n",
    "class Info:\n",
    "    def __init__(self):\n",
    "        self.name = \"Ram\"\n",
    "        self.age = 45\n",
    "        self.add = \"Kathmandu\"\n",
    "        \n",
    "    def __str__(self):\n",
    "        return self.name\n",
    "\n",
    "obj = Info()\n",
    "print(obj)\n",
    "print(type(obj))"
   ]
  },
  {
   "cell_type": "code",
   "execution_count": 3,
   "id": "8c76eb34-d3ba-4f6f-8ca5-aa1902f2d07e",
   "metadata": {},
   "outputs": [
    {
     "data": {
      "text/plain": [
       "'Ram'"
      ]
     },
     "execution_count": 3,
     "metadata": {},
     "output_type": "execute_result"
    }
   ],
   "source": [
    "# to get values into string\n",
    "obj.__str__()"
   ]
  },
  {
   "cell_type": "code",
   "execution_count": 4,
   "id": "86c2f202-e531-4610-be0f-2746b7d6fa6d",
   "metadata": {},
   "outputs": [
    {
     "name": "stdout",
     "output_type": "stream",
     "text": [
      "Ram\n"
     ]
    }
   ],
   "source": [
    "print(str(obj))"
   ]
  },
  {
   "cell_type": "code",
   "execution_count": 5,
   "id": "a50a7c49-e652-41de-8d4b-535ba17a3446",
   "metadata": {},
   "outputs": [
    {
     "ename": "TypeError",
     "evalue": "unsupported operand type(s) for +: 'Info' and 'str'",
     "output_type": "error",
     "traceback": [
      "\u001b[1;31m---------------------------------------------------------------------------\u001b[0m",
      "\u001b[1;31mTypeError\u001b[0m                                 Traceback (most recent call last)",
      "Cell \u001b[1;32mIn[5], line 1\u001b[0m\n\u001b[1;32m----> 1\u001b[0m \u001b[38;5;28mprint\u001b[39m(obj \u001b[38;5;241m+\u001b[39m \u001b[38;5;124m\"\u001b[39m\u001b[38;5;124mshyam\u001b[39m\u001b[38;5;124m\"\u001b[39m)\n",
      "\u001b[1;31mTypeError\u001b[0m: unsupported operand type(s) for +: 'Info' and 'str'"
     ]
    }
   ],
   "source": [
    "print(obj + \"shyam\")"
   ]
  },
  {
   "cell_type": "code",
   "execution_count": 6,
   "id": "92f65500-fbb3-4fab-910d-8f2e23e63551",
   "metadata": {},
   "outputs": [
    {
     "ename": "TypeError",
     "evalue": "unsupported operand type(s) for +: 'Point' and 'Point'",
     "output_type": "error",
     "traceback": [
      "\u001b[1;31m---------------------------------------------------------------------------\u001b[0m",
      "\u001b[1;31mTypeError\u001b[0m                                 Traceback (most recent call last)",
      "Cell \u001b[1;32mIn[6], line 7\u001b[0m\n\u001b[0;32m      5\u001b[0m p1 \u001b[38;5;241m=\u001b[39m Point(\u001b[38;5;241m2\u001b[39m,\u001b[38;5;241m3\u001b[39m)\n\u001b[0;32m      6\u001b[0m p2 \u001b[38;5;241m=\u001b[39m Point(\u001b[38;5;241m-\u001b[39m\u001b[38;5;241m1\u001b[39m,\u001b[38;5;241m2\u001b[39m)\n\u001b[1;32m----> 7\u001b[0m p1 \u001b[38;5;241m+\u001b[39m p2\n",
      "\u001b[1;31mTypeError\u001b[0m: unsupported operand type(s) for +: 'Point' and 'Point'"
     ]
    }
   ],
   "source": [
    "class Point:\n",
    "    def __init__(self, x = 0, y = 0):\n",
    "        self.x = x\n",
    "        self.y = y\n",
    "        \n",
    "p1 = Point(2,3)\n",
    "p2 = Point(-1,2)\n",
    "p1 + p2"
   ]
  },
  {
   "cell_type": "code",
   "execution_count": 8,
   "id": "764c7f93-afc9-46f7-b00a-8b0de3048419",
   "metadata": {},
   "outputs": [
    {
     "name": "stdout",
     "output_type": "stream",
     "text": [
      "(1,5)\n"
     ]
    }
   ],
   "source": [
    "class Point:\n",
    "    def __init__(self, x = 0, y = 0):\n",
    "        self.x = x\n",
    "        self.y = y\n",
    "    \n",
    "    def __str__(self):\n",
    "        return f\"({self.x},{self.y})\"\n",
    "    \n",
    "    def __add__(self,other):\n",
    "        x = self.x + other.x\n",
    "        y = self.y + other.y\n",
    "        return Point(x,y)\n",
    "        \n",
    "p1 = Point(2,3)\n",
    "p2 = Point(-1,2)\n",
    "print(p1 + p2)\n"
   ]
  },
  {
   "cell_type": "code",
   "execution_count": 11,
   "id": "185331a1-49df-4cbd-b366-b2cedf389611",
   "metadata": {},
   "outputs": [
    {
     "name": "stdout",
     "output_type": "stream",
     "text": [
      "this is init method  1000\n",
      "this is init method  2000\n",
      "this is init method  2500\n",
      "This is add method 3000\n",
      "this is init method  3000\n",
      "This is add method 5500\n",
      "this is init method  5500\n",
      "This is str method 5500\n",
      "5500\n"
     ]
    }
   ],
   "source": [
    "class Point:\n",
    "    def __init__(self, x = 0):\n",
    "        self.x = x\n",
    "        print(\"this is init method \",self.x)\n",
    "    \n",
    "    \n",
    "    def __str__(self):\n",
    "        print(\"This is str method\",self.x)\n",
    "        return str(self.x)\n",
    "    \n",
    "    def __add__(self,other):\n",
    "        x = self.x + other.x\n",
    "        print(\"This is add method\",x)\n",
    "        return Point(x)\n",
    "        \n",
    "p1 = Point(1000)\n",
    "p2 = Point(2000)\n",
    "p3 = Point(2500)\n",
    "\n",
    "\n",
    "print(p1 + p2 + p3)"
   ]
  },
  {
   "cell_type": "code",
   "execution_count": 12,
   "id": "800c3eda-524d-4993-a705-225a484035ef",
   "metadata": {},
   "outputs": [
    {
     "name": "stdout",
     "output_type": "stream",
     "text": [
      "Parrot can fly\n",
      "Penguin can't fly\n"
     ]
    }
   ],
   "source": [
    "class Parrot:\n",
    "    def fly(self):\n",
    "        print(\"Parrot can fly\")\n",
    "    def swim(self):\n",
    "        print(\"Parrot can't swim\")\n",
    "        \n",
    "class Penguin:\n",
    "    def fly(self):\n",
    "        print(\"Penguin can't fly\")\n",
    "    def swim(self):\n",
    "        print(\"Penguin can swim\")\n",
    "        \n",
    "# common interface\n",
    "def flying_test(bird):\n",
    "   bird.fly()\n",
    "\n",
    "#instantiate objects\n",
    "blu = Parrot()\n",
    "peggy = Penguin()\n",
    "# passing the object\n",
    "flying_test(blu)\n",
    "flying_test(peggy)"
   ]
  },
  {
   "cell_type": "code",
   "execution_count": null,
   "id": "6a9035de-a4b2-45bd-8492-39ae15f7611f",
   "metadata": {},
   "outputs": [],
   "source": []
  }
 ],
 "metadata": {
  "kernelspec": {
   "display_name": "Python 3 (ipykernel)",
   "language": "python",
   "name": "python3"
  },
  "language_info": {
   "codemirror_mode": {
    "name": "ipython",
    "version": 3
   },
   "file_extension": ".py",
   "mimetype": "text/x-python",
   "name": "python",
   "nbconvert_exporter": "python",
   "pygments_lexer": "ipython3",
   "version": "3.11.7"
  }
 },
 "nbformat": 4,
 "nbformat_minor": 5
}
