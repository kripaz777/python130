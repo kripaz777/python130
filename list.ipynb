{
 "cells": [
  {
   "cell_type": "code",
   "execution_count": 1,
   "id": "d40092f3-fd44-40cc-b6f4-25d68bef870f",
   "metadata": {},
   "outputs": [],
   "source": [
    "# Python Collection\n",
    "# List\n",
    "# tuple\n",
    "# dict\n",
    "# set"
   ]
  },
  {
   "cell_type": "code",
   "execution_count": 2,
   "id": "e2f14b28-2982-4c82-8327-df006074b6fc",
   "metadata": {},
   "outputs": [],
   "source": [
    "# List\n",
    "# -Indexing\n",
    "# -Multiple and duplicate data\n",
    "# -Ordered\n",
    "# -Mutable"
   ]
  },
  {
   "cell_type": "code",
   "execution_count": 11,
   "id": "690bb8c9-475b-49fe-9a1c-f673920d03a6",
   "metadata": {},
   "outputs": [
    {
     "name": "stdout",
     "output_type": "stream",
     "text": [
      "<class 'list'>\n",
      "<class 'list'>\n",
      "[1, 2, 3, 4, 5, 6, 7, 8, 9, 0]\n",
      "['Apple', 'Ball', 'Cat', 'Dog', 'Fish', 'Apple']\n"
     ]
    }
   ],
   "source": [
    "a = list()   #[]\n",
    "a = [1,2,3,4,5,6,7,8,9,0]\n",
    "b = [\"Apple\",\"Ball\",\"Cat\",\"Dog\",\"Fish\",\"Apple\"]\n",
    "print(type(a))\n",
    "print(type(b))\n",
    "print(a)\n",
    "print(b)"
   ]
  },
  {
   "cell_type": "code",
   "execution_count": 12,
   "id": "2ede7519-56bb-4cc0-b310-ecafee335de2",
   "metadata": {},
   "outputs": [
    {
     "name": "stdout",
     "output_type": "stream",
     "text": [
      "Apple\n",
      "['Apple', 'Ball', 'Cat', 'Dog', 'Fish']\n",
      "['Apple', 'Cat', 'Fish']\n"
     ]
    }
   ],
   "source": [
    "print(b[0])\n",
    "print(b[0:5])\n",
    "print(b[0:5:2])"
   ]
  },
  {
   "cell_type": "code",
   "execution_count": 13,
   "id": "51f4e5f6-2fe4-4275-bd0b-c0fcd90ff14b",
   "metadata": {},
   "outputs": [
    {
     "name": "stdout",
     "output_type": "stream",
     "text": [
      "[1, 2, 3, 4, 5, 6, 7, 8, 9, 0, 'Apple', 'Ball', 'Cat', 'Dog', 'Fish', 'Apple']\n"
     ]
    }
   ],
   "source": [
    "a = [1,2,3,4,5,6,7,8,9,0]\n",
    "b = [\"Apple\",\"Ball\",\"Cat\",\"Dog\",\"Fish\",\"Apple\"]\n",
    "c = a+b\n",
    "print(c)"
   ]
  },
  {
   "cell_type": "code",
   "execution_count": 14,
   "id": "5e47bd1a-a804-43bd-ba34-81c4d948eeb4",
   "metadata": {},
   "outputs": [
    {
     "name": "stdout",
     "output_type": "stream",
     "text": [
      "['Apple', 'Ball', 'Cat', 'Dog', 'Fish', 'Apple', 'Apple', 'Ball', 'Cat', 'Dog', 'Fish', 'Apple']\n"
     ]
    }
   ],
   "source": [
    "b = [\"Apple\",\"Ball\",\"Cat\",\"Dog\",\"Fish\",\"Apple\"]\n",
    "print(b*2)"
   ]
  },
  {
   "cell_type": "code",
   "execution_count": 15,
   "id": "98fb9b05-525e-4038-bf76-f7091b7d59e6",
   "metadata": {},
   "outputs": [
    {
     "name": "stdout",
     "output_type": "stream",
     "text": [
      "[1, 2, 3, 4, 5, 6, 7, 8, 9, 0, 1, 2, 3, 4, 5, 6, 7, 8, 9, 0]\n"
     ]
    }
   ],
   "source": [
    "a = [1,2,3,4,5,6,7,8,9,0]\n",
    "print(a*2)"
   ]
  },
  {
   "cell_type": "code",
   "execution_count": 16,
   "id": "54f975d6-5bdc-40ea-a544-c1f3bbaa352c",
   "metadata": {},
   "outputs": [],
   "source": [
    "# append() insert() extend()"
   ]
  },
  {
   "cell_type": "code",
   "execution_count": 18,
   "id": "d0fbf224-ec8c-4409-af52-bd3eee46c61f",
   "metadata": {},
   "outputs": [
    {
     "name": "stdout",
     "output_type": "stream",
     "text": [
      "['Apple', 'Ball', 'Cat', 'Dog', 'Fish', 'Apple', 'Ball']\n"
     ]
    }
   ],
   "source": [
    "b = [\"Apple\",\"Ball\",\"Cat\",\"Dog\",\"Fish\",\"Apple\"]\n",
    "b.append(\"Ball\")\n",
    "print(b)"
   ]
  },
  {
   "cell_type": "code",
   "execution_count": 19,
   "id": "68d17447-a662-4504-973c-642f1444307d",
   "metadata": {},
   "outputs": [],
   "source": [
    "# create a list"
   ]
  },
  {
   "cell_type": "code",
   "execution_count": 20,
   "id": "8d916cf4-43bb-4d6d-ae9c-2157ae790c2c",
   "metadata": {},
   "outputs": [
    {
     "name": "stdin",
     "output_type": "stream",
     "text": [
      "Enter n =  5\n",
      "Enter x =  243\n",
      "Enter x =  576\n",
      "Enter x =  234\n",
      "Enter x =  765\n",
      "Enter x =  342\n"
     ]
    },
    {
     "name": "stdout",
     "output_type": "stream",
     "text": [
      "[243, 576, 234, 765, 342]\n"
     ]
    }
   ],
   "source": [
    "a = []\n",
    "n = int(input(\"Enter n = \"))\n",
    "for i in range(n):\n",
    "    x = int(input(\"Enter x = \"))\n",
    "    a.append(x)\n",
    "\n",
    "print(a)"
   ]
  },
  {
   "cell_type": "code",
   "execution_count": 23,
   "id": "f6e636c4-aff0-419f-abb5-aa9cb86624fd",
   "metadata": {},
   "outputs": [
    {
     "name": "stdout",
     "output_type": "stream",
     "text": [
      "Min value =  234\n",
      "Max value =  765\n",
      "Sum value =  2160\n",
      "[234, 243, 342, 576, 765]\n",
      "[765, 576, 342, 243, 234]\n"
     ]
    }
   ],
   "source": [
    "print(\"Min value = \",min(a))\n",
    "print(\"Max value = \",max(a))\n",
    "print(\"Sum value = \",sum(a))\n",
    "a.sort()\n",
    "print(a)\n",
    "a.reverse()\n",
    "print(a)"
   ]
  },
  {
   "cell_type": "code",
   "execution_count": 25,
   "id": "9e95bd11-d664-4ce3-8070-0e562215b997",
   "metadata": {},
   "outputs": [
    {
     "name": "stdout",
     "output_type": "stream",
     "text": [
      "['Ball', 'Banana', 'Xray', 'Yak', 'apple']\n"
     ]
    }
   ],
   "source": [
    "a = [\"Ball\",\"Xray\",\"Yak\",\"apple\",\"Banana\"]\n",
    "a.sort()\n",
    "print(a)"
   ]
  },
  {
   "cell_type": "code",
   "execution_count": 26,
   "id": "8e3c97bf-44d0-48f3-8905-7604804a9370",
   "metadata": {},
   "outputs": [
    {
     "name": "stdout",
     "output_type": "stream",
     "text": [
      "['Ball', 'Bat', 'Xray', 'Yak', 'apple', 'Banana']\n"
     ]
    }
   ],
   "source": [
    "# insert()\n",
    "a = [\"Ball\",\"Xray\",\"Yak\",\"apple\",\"Banana\"]\n",
    "a.insert(1,\"Bat\")\n",
    "print(a)"
   ]
  },
  {
   "cell_type": "code",
   "execution_count": 28,
   "id": "ef425d58-feb2-4b25-966c-0437032ca587",
   "metadata": {},
   "outputs": [
    {
     "name": "stdout",
     "output_type": "stream",
     "text": [
      "['Ball', 'Xray', 'Yak', 'apple', 'Banana', 1, 2, 3]\n"
     ]
    }
   ],
   "source": [
    "a = [\"Ball\",\"Xray\",\"Yak\",\"apple\",\"Banana\"]\n",
    "b = [1,2,3]\n",
    "a.extend(b)\n",
    "print(a)"
   ]
  },
  {
   "cell_type": "code",
   "execution_count": 30,
   "id": "3ce44c42-ba21-420f-ba87-f899387ffc09",
   "metadata": {},
   "outputs": [
    {
     "data": {
      "text/plain": [
       "['ball', 'Xray', 'Yak', 'apple', 'Banana']"
      ]
     },
     "execution_count": 30,
     "metadata": {},
     "output_type": "execute_result"
    }
   ],
   "source": [
    "# edit\n",
    "a = [\"Ball\",\"Xray\",\"Yak\",\"apple\",\"Banana\"]\n",
    "a[0] = \"ball\"\n",
    "a"
   ]
  },
  {
   "cell_type": "code",
   "execution_count": 31,
   "id": "2362f2d7-2d65-4bc9-aa52-c3cf45a5ab88",
   "metadata": {},
   "outputs": [
    {
     "data": {
      "text/plain": [
       "['ball', 'xray', 'Yak', 'apple', 'Banana']"
      ]
     },
     "execution_count": 31,
     "metadata": {},
     "output_type": "execute_result"
    }
   ],
   "source": [
    "a = [\"Ball\",\"Xray\",\"Yak\",\"apple\",\"Banana\"]\n",
    "a[0:2] = [\"ball\",\"xray\"]\n",
    "a"
   ]
  },
  {
   "cell_type": "code",
   "execution_count": 32,
   "id": "2671e1a9-3b57-4c23-b6e4-c881d08a88b9",
   "metadata": {},
   "outputs": [],
   "source": [
    "# del remove() pop()"
   ]
  },
  {
   "cell_type": "code",
   "execution_count": 33,
   "id": "39cee94d-1a01-4334-84b5-ee53b6593cf9",
   "metadata": {},
   "outputs": [
    {
     "name": "stdout",
     "output_type": "stream",
     "text": [
      "['Xray', 'Yak', 'apple', 'Banana']\n"
     ]
    }
   ],
   "source": [
    "a = [\"Ball\",\"Xray\",\"Yak\",\"apple\",\"Banana\"]\n",
    "del a[0]\n",
    "print(a)"
   ]
  },
  {
   "cell_type": "code",
   "execution_count": 34,
   "id": "7fcfcef8-96fb-4638-8bc7-d61f0262a582",
   "metadata": {},
   "outputs": [
    {
     "data": {
      "text/plain": [
       "['Yak', 'apple', 'Banana']"
      ]
     },
     "execution_count": 34,
     "metadata": {},
     "output_type": "execute_result"
    }
   ],
   "source": [
    "a = [\"Ball\",\"Xray\",\"Yak\",\"apple\",\"Banana\"]\n",
    "del a[0:2]\n",
    "a"
   ]
  },
  {
   "cell_type": "code",
   "execution_count": 35,
   "id": "5b75e7f3-2bb8-4de3-830f-daa7a3bccba2",
   "metadata": {},
   "outputs": [
    {
     "data": {
      "text/plain": [
       "['Xray', 'Yak', 'apple', 'Banana']"
      ]
     },
     "execution_count": 35,
     "metadata": {},
     "output_type": "execute_result"
    }
   ],
   "source": [
    "a = [\"Ball\",\"Xray\",\"Yak\",\"apple\",\"Banana\"]\n",
    "a.remove(\"Ball\")\n",
    "a"
   ]
  },
  {
   "cell_type": "code",
   "execution_count": 36,
   "id": "2bde6eee-c756-4f69-b0e8-674700c0b043",
   "metadata": {},
   "outputs": [
    {
     "name": "stdout",
     "output_type": "stream",
     "text": [
      "['Xray', 'Yak', 'apple', 'Banana']\n",
      "Ball\n"
     ]
    }
   ],
   "source": [
    "# pop()\n",
    "a = [\"Ball\",\"Xray\",\"Yak\",\"apple\",\"Banana\"]\n",
    "b = a.pop(0)\n",
    "print(a)\n",
    "print(b)"
   ]
  },
  {
   "cell_type": "code",
   "execution_count": 37,
   "id": "57299ad1-7f2c-405e-9f03-6703a8bbcdb2",
   "metadata": {},
   "outputs": [
    {
     "name": "stdout",
     "output_type": "stream",
     "text": [
      "Ball\n",
      "Xray\n",
      "Yak\n",
      "apple\n",
      "Banana\n"
     ]
    }
   ],
   "source": [
    "# loop in list\n",
    "a = [\"Ball\",\"Xray\",\"Yak\",\"apple\",\"Banana\"]\n",
    "for i in a:\n",
    "    print(i)"
   ]
  },
  {
   "cell_type": "code",
   "execution_count": 39,
   "id": "e08d5e9c-376d-4942-9cb1-73b3bd61c024",
   "metadata": {},
   "outputs": [
    {
     "name": "stdout",
     "output_type": "stream",
     "text": [
      "5\n"
     ]
    }
   ],
   "source": [
    "l = [\"Ball\",\"Xray\",\"Yak\",\"apple\",\"Banana\"]\n",
    "print(len(l))"
   ]
  },
  {
   "cell_type": "code",
   "execution_count": 43,
   "id": "8d60aec1-5631-415a-8d68-e00cdcf9fe1c",
   "metadata": {},
   "outputs": [
    {
     "name": "stdout",
     "output_type": "stream",
     "text": [
      "Ball\n",
      "Xray\n",
      "Yak\n",
      "apple\n",
      "Banana\n"
     ]
    }
   ],
   "source": [
    "i = 0\n",
    "a = [\"Ball\",\"Xray\",\"Yak\",\"apple\",\"Banana\"]\n",
    "l = len(a)\n",
    "while i<l:\n",
    "    print(a[i])\n",
    "    i = i+1"
   ]
  },
  {
   "cell_type": "code",
   "execution_count": 2,
   "id": "62a1f214-5712-43db-86ce-7993f677df83",
   "metadata": {},
   "outputs": [],
   "source": [
    "# list inside list (nested_list)"
   ]
  },
  {
   "cell_type": "code",
   "execution_count": 5,
   "id": "399e83b9-bb16-4238-adbf-9e75101a4422",
   "metadata": {},
   "outputs": [
    {
     "name": "stdout",
     "output_type": "stream",
     "text": [
      "[7, 8, 9]\n"
     ]
    }
   ],
   "source": [
    "l = [[1,2,3],\n",
    "     [4,5,6],\n",
    "     [7,8,9]]\n",
    "\n",
    "print(l[2])"
   ]
  },
  {
   "cell_type": "code",
   "execution_count": 7,
   "id": "000ffb8d-aa3a-41c0-97c6-6b883a2247f4",
   "metadata": {},
   "outputs": [
    {
     "name": "stdout",
     "output_type": "stream",
     "text": [
      "1\n"
     ]
    }
   ],
   "source": [
    "print(l[0][0])"
   ]
  },
  {
   "cell_type": "code",
   "execution_count": 8,
   "id": "8a1874fb-1cea-486a-a635-dc7247d4dffc",
   "metadata": {},
   "outputs": [
    {
     "name": "stdout",
     "output_type": "stream",
     "text": [
      "[['Ram', 34, 'Kathmandu'], ['Shyam', 67, 'Bhaktapur'], ['Hari', 34, 'Lalitpur']]\n"
     ]
    }
   ],
   "source": [
    "l = [[\"Ram\",34,\"Kathmandu\"],\n",
    "    [\"Shyam\",67,\"Bhaktapur\"],\n",
    "    [\"Hari\",34,\"Lalitpur\"]]\n",
    "print(l)"
   ]
  },
  {
   "cell_type": "code",
   "execution_count": 9,
   "id": "9d52d49c-9671-434e-a657-f33e8f5631f8",
   "metadata": {},
   "outputs": [],
   "source": [
    "# Wap to create list inside list"
   ]
  },
  {
   "cell_type": "code",
   "execution_count": 11,
   "id": "d91df0e2-009a-4083-b142-dcbb4bf8a288",
   "metadata": {},
   "outputs": [
    {
     "name": "stdin",
     "output_type": "stream",
     "text": [
      "Enter n =  4\n",
      "Enter name =  Ram\n",
      "Enter age =  45\n",
      "Enter add =  Kathmandu\n",
      "Enter name =  Shyam\n",
      "Enter age =  56\n",
      "Enter add =  Bhaktapur\n",
      "Enter name =  lalitpur\n",
      "Enter age =  23\n",
      "Enter add =  Lalitpur\n",
      "Enter name =  Sabin\n",
      "Enter age =  56\n",
      "Enter add =  Jhapa\n"
     ]
    },
    {
     "name": "stdout",
     "output_type": "stream",
     "text": [
      "[['Ram', 45, 'Kathmandu'], ['Shyam', 56, 'Bhaktapur'], ['lalitpur', 23, 'Lalitpur'], ['Sabin', 56, 'Jhapa']]\n"
     ]
    }
   ],
   "source": [
    "info = []\n",
    "n = int(input(\"Enter n = \"))\n",
    "for i in range(n):\n",
    "    name = input(\"Enter name = \")\n",
    "    age = int(input(\"Enter age = \"))\n",
    "    add = input(\"Enter add = \")\n",
    "    info.append([name,age,add])\n",
    "\n",
    "print(info)"
   ]
  },
  {
   "cell_type": "code",
   "execution_count": 13,
   "id": "92ba3e0a-3f29-415d-9dd2-30d0c74eb96f",
   "metadata": {},
   "outputs": [
    {
     "name": "stdout",
     "output_type": "stream",
     "text": [
      "[['Rama', 46, 'Jhapa'], ['Shyam', 56, 'Bhaktapur'], ['Ram', 23, 'Lalitpur'], ['Sabin', 56, 'Jhapa']]\n"
     ]
    }
   ],
   "source": [
    "l = [['Ram', 45, 'Kathmandu'], \n",
    "     ['Shyam', 56, 'Bhaktapur'], \n",
    "     ['Ram', 23, 'Lalitpur'], \n",
    "     ['Sabin', 56, 'Jhapa']]\n",
    "\n",
    "l[0] = [\"Rama\",46,\"Jhapa\"]\n",
    "print(l)"
   ]
  },
  {
   "cell_type": "code",
   "execution_count": 14,
   "id": "13ae075b-1370-4f15-974d-eef037eabcf2",
   "metadata": {},
   "outputs": [
    {
     "name": "stdout",
     "output_type": "stream",
     "text": [
      "[['Ram Prasad', 45, 'Kathmandu'], ['Shyam', 56, 'Bhaktapur'], ['Ram', 23, 'Lalitpur'], ['Sabin', 56, 'Jhapa']]\n"
     ]
    }
   ],
   "source": [
    "l = [['Ram', 45, 'Kathmandu'], \n",
    "     ['Shyam', 56, 'Bhaktapur'], \n",
    "     ['Ram', 23, 'Lalitpur'], \n",
    "     ['Sabin', 56, 'Jhapa']]\n",
    "\n",
    "l[0][0] = \"Ram Prasad\"\n",
    "print(l)"
   ]
  },
  {
   "cell_type": "code",
   "execution_count": 15,
   "id": "d008578d-9c7f-4bb2-abb1-ceccd08df516",
   "metadata": {},
   "outputs": [],
   "source": [
    "# delete\n",
    "del l[0]"
   ]
  },
  {
   "cell_type": "code",
   "execution_count": 16,
   "id": "1de858d7-8d6d-411d-9422-d438161fcf6b",
   "metadata": {},
   "outputs": [
    {
     "name": "stdout",
     "output_type": "stream",
     "text": [
      "[['Shyam', 56, 'Bhaktapur'], ['Ram', 23, 'Lalitpur'], ['Sabin', 56, 'Jhapa']]\n"
     ]
    }
   ],
   "source": [
    "print(l)"
   ]
  },
  {
   "cell_type": "code",
   "execution_count": 17,
   "id": "bc9a3f01-5f32-47f9-8486-c3b6edfa9eac",
   "metadata": {},
   "outputs": [
    {
     "name": "stdout",
     "output_type": "stream",
     "text": [
      "['Ram Prasad', 45, 'Kathmandu']\n",
      "['Shyam', 56, 'Bhaktapur']\n",
      "['Ram', 23, 'Lalitpur']\n",
      "['Sabin', 56, 'Jhapa']\n"
     ]
    }
   ],
   "source": [
    "l = [['Ram Prasad', 45, 'Kathmandu'], ['Shyam', 56, 'Bhaktapur'], ['Ram', 23, 'Lalitpur'], ['Sabin', 56, 'Jhapa']]\n",
    "for i in l:\n",
    "    print(i)"
   ]
  },
  {
   "cell_type": "code",
   "execution_count": 20,
   "id": "15cdf364-8484-4d63-bb16-6a1eb3763095",
   "metadata": {},
   "outputs": [
    {
     "name": "stdout",
     "output_type": "stream",
     "text": [
      "Yes 1\n"
     ]
    }
   ],
   "source": [
    "a = [\"Ram\",\"Shyam\",\"Hari\",\"Ramesh\",\"Shyam\"]\n",
    "if \"Ram\" in a:\n",
    "    print(\"Yes\",a.count(\"Ram\"))"
   ]
  },
  {
   "cell_type": "code",
   "execution_count": 21,
   "id": "521f9777-b0a5-4ced-92d4-f7d8190ca3b2",
   "metadata": {},
   "outputs": [
    {
     "name": "stdout",
     "output_type": "stream",
     "text": [
      "Ram\n",
      "Shyam\n",
      "Hari\n",
      "Ramesh\n",
      "Shyam\n"
     ]
    }
   ],
   "source": [
    "for i in a:\n",
    "    print(i)"
   ]
  },
  {
   "cell_type": "code",
   "execution_count": 31,
   "id": "736c2e22-2a22-4d78-9de1-10a89eca965d",
   "metadata": {},
   "outputs": [
    {
     "name": "stdin",
     "output_type": "stream",
     "text": [
      "Enter name =  Ram\n"
     ]
    },
    {
     "name": "stdout",
     "output_type": "stream",
     "text": [
      "['Ram', 45, 'Kathmandu']\n"
     ]
    }
   ],
   "source": [
    "# search\n",
    "l = [['Ram', 45, 'Kathmandu'], ['Shyam', 56, 'Bhaktapur'], ['Ram Prasad', 23, 'Lalitpur'], ['Sabin', 56, 'Jhapa']]\n",
    "\n",
    "name = input(\"Enter name = \")\n",
    "for i in l:\n",
    "    if name in i:\n",
    "        print(i)"
   ]
  },
  {
   "cell_type": "code",
   "execution_count": 32,
   "id": "6d923a28-d626-4546-bdc1-7220cebadb97",
   "metadata": {},
   "outputs": [
    {
     "name": "stdin",
     "output_type": "stream",
     "text": [
      "Enter name =  ram\n"
     ]
    },
    {
     "name": "stdout",
     "output_type": "stream",
     "text": [
      "['Ram', 45, 'Kathmandu']\n",
      "['Ram Prasad', 23, 'Lalitpur']\n"
     ]
    }
   ],
   "source": [
    "# search\n",
    "l = [['Ram', 45, 'Kathmandu'], ['Shyam', 56, 'Bhaktapur'], ['Ram Prasad', 23, 'Lalitpur'], ['Sabin', 56, 'Jhapa']]\n",
    "name = input(\"Enter name = \")\n",
    "for i in l:\n",
    "    if name.lower() in i[0].lower():\n",
    "        print(i)"
   ]
  },
  {
   "cell_type": "code",
   "execution_count": null,
   "id": "8a8dafb6-8896-4459-9d33-d28a65337e8a",
   "metadata": {},
   "outputs": [],
   "source": [
    "# WAP to remove all multiple or duplicate data from list\n",
    "#l = [\"Apple\",\"Ball\",\"Cat\",\"Fish\",\"Apple\"]\n",
    "\n",
    "# WAP to find index of  duplicate data from list\n",
    "#l = [\"Apple\",\"Ball\",\"Cat\",\"Fish\",\"Apple\"]"
   ]
  }
 ],
 "metadata": {
  "kernelspec": {
   "display_name": "Python 3 (ipykernel)",
   "language": "python",
   "name": "python3"
  },
  "language_info": {
   "codemirror_mode": {
    "name": "ipython",
    "version": 3
   },
   "file_extension": ".py",
   "mimetype": "text/x-python",
   "name": "python",
   "nbconvert_exporter": "python",
   "pygments_lexer": "ipython3",
   "version": "3.11.7"
  }
 },
 "nbformat": 4,
 "nbformat_minor": 5
}
