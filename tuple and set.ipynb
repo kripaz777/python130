{
 "cells": [
  {
   "cell_type": "code",
   "execution_count": 1,
   "id": "31a8f780-add9-4120-9926-b4a471035454",
   "metadata": {},
   "outputs": [],
   "source": [
    "# Tuple\n",
    "# -Indexing\n",
    "# -Ordered\n",
    "# -Multiple and Duplicate data\n",
    "# -Imutable"
   ]
  },
  {
   "cell_type": "code",
   "execution_count": 4,
   "id": "0d7a9b60-a219-4abc-9386-8c1112280c93",
   "metadata": {},
   "outputs": [
    {
     "name": "stdout",
     "output_type": "stream",
     "text": [
      "<class 'tuple'>\n"
     ]
    }
   ],
   "source": [
    "#t = tuple()\n",
    "t = (1,2,3,4,5,6,7,8,9,1)\n",
    "print(type(t))"
   ]
  },
  {
   "cell_type": "code",
   "execution_count": 3,
   "id": "bd981bbd-f04f-422f-bd21-de156af68f68",
   "metadata": {},
   "outputs": [
    {
     "name": "stdout",
     "output_type": "stream",
     "text": [
      "(1, 2, 3, 4, 5, 6, 7, 8, 9)\n"
     ]
    }
   ],
   "source": [
    "a = (1,2,3,4,5)\n",
    "b = (6,7,8,9)\n",
    "c = a+b\n",
    "print(c)"
   ]
  },
  {
   "cell_type": "code",
   "execution_count": 7,
   "id": "201c8850-3211-4592-8d2d-456a0b1fef47",
   "metadata": {},
   "outputs": [
    {
     "name": "stdout",
     "output_type": "stream",
     "text": [
      "Apple\n",
      "('Apple', 'Ball', 'Cat')\n"
     ]
    }
   ],
   "source": [
    "a = (\"Apple\",\"Ball\",\"Cat\",\"Dog\",\"Fish\")\n",
    "print(a[0])\n",
    "print(a[0:3])"
   ]
  },
  {
   "cell_type": "code",
   "execution_count": 8,
   "id": "a43e2fc5-22d9-47f8-94fa-e5ea04b90f81",
   "metadata": {},
   "outputs": [],
   "source": [
    "# In tuple \n",
    "# No append() insert() extend()\n",
    "# No Update or Edit\n",
    "# No delete\n",
    "# No sort"
   ]
  },
  {
   "cell_type": "code",
   "execution_count": 12,
   "id": "6e78256e-f11d-424b-b885-12e2985bcff5",
   "metadata": {},
   "outputs": [
    {
     "data": {
      "text/plain": [
       "tuple"
      ]
     },
     "execution_count": 12,
     "metadata": {},
     "output_type": "execute_result"
    }
   ],
   "source": [
    "t = (1,)\n",
    "type(t)"
   ]
  },
  {
   "cell_type": "code",
   "execution_count": 13,
   "id": "d480769a-de5e-4d04-aee2-38f9b6b21076",
   "metadata": {},
   "outputs": [
    {
     "name": "stdin",
     "output_type": "stream",
     "text": [
      "Enter n =  5\n",
      "Enter x =  23\n",
      "Enter x =  43\n",
      "Enter x =  21\n",
      "Enter x =  56\n",
      "Enter x =  32\n"
     ]
    },
    {
     "name": "stdout",
     "output_type": "stream",
     "text": [
      "(23, 43, 21, 56, 32)\n"
     ]
    }
   ],
   "source": [
    "t = tuple()\n",
    "n = int(input(\"Enter n = \"))\n",
    "for i in range(n):\n",
    "    x = int(input(\"Enter x = \"))\n",
    "    t = t + (x,)\n",
    "\n",
    "print(t)"
   ]
  },
  {
   "cell_type": "code",
   "execution_count": null,
   "id": "34122f58-cd83-47d1-b08c-f501233214b4",
   "metadata": {},
   "outputs": [],
   "source": [
    "# min() max() sum()"
   ]
  },
  {
   "cell_type": "code",
   "execution_count": null,
   "id": "c8ae8453-6334-45fc-a0bc-151fa1d2e39e",
   "metadata": {},
   "outputs": [],
   "source": [
    "#Set\n",
    "# -No Indexing\n",
    "# -Unordered\n",
    "# -Multiple but no Duplicate data\n",
    "# -mutable"
   ]
  },
  {
   "cell_type": "code",
   "execution_count": 1,
   "id": "c45fe026-917e-4f50-9d36-37656a72d4b0",
   "metadata": {},
   "outputs": [
    {
     "name": "stdout",
     "output_type": "stream",
     "text": [
      "{'Banana', 'Egg', 'Dog', 'Cat', 'Apple', 'Fish'}\n"
     ]
    }
   ],
   "source": [
    "s = set()\n",
    "s = {\"Apple\",\"Banana\",\"Cat\",\"Dog\",\"Egg\",\"Fish\"}\n",
    "print(s)"
   ]
  },
  {
   "cell_type": "code",
   "execution_count": 2,
   "id": "76ada5a1-8251-4f45-baa0-8e976bcd91d5",
   "metadata": {},
   "outputs": [
    {
     "name": "stdout",
     "output_type": "stream",
     "text": [
      "Banana\n",
      "Egg\n",
      "Dog\n",
      "Cat\n",
      "Apple\n",
      "Fish\n"
     ]
    }
   ],
   "source": [
    "for i in s:\n",
    "    print(i)"
   ]
  },
  {
   "cell_type": "code",
   "execution_count": 3,
   "id": "f1f9c822-ba13-444d-b554-7efe5624c805",
   "metadata": {},
   "outputs": [
    {
     "name": "stdout",
     "output_type": "stream",
     "text": [
      "{'Banana', 'Egg', 'Dog', 'Cat', 'Apple', 'Fish'}\n"
     ]
    }
   ],
   "source": [
    "s = {\"Apple\",\"Banana\",\"Cat\",\"Dog\",\"Egg\",\"Fish\",\"Apple\",\"Dog\",\"Cat\"}\n",
    "print(s)"
   ]
  },
  {
   "cell_type": "code",
   "execution_count": 4,
   "id": "57def8c4-347d-4002-bb68-a915f0bcec89",
   "metadata": {},
   "outputs": [
    {
     "name": "stdout",
     "output_type": "stream",
     "text": [
      "{'Ball', 'Cat', 'Apple'}\n"
     ]
    }
   ],
   "source": [
    "s = set()\n",
    "s.add(\"Apple\")\n",
    "s.add(\"Ball\")\n",
    "s.add(\"Cat\")\n",
    "print(s)"
   ]
  },
  {
   "cell_type": "code",
   "execution_count": 1,
   "id": "1069e885-d65b-4992-9b42-88a20adc413c",
   "metadata": {},
   "outputs": [
    {
     "name": "stdout",
     "output_type": "stream",
     "text": [
      "{'Apple', 1, 'Ball', 'Cat', 2, 3, 4}\n"
     ]
    }
   ],
   "source": [
    "s = {'Ball', 'Cat', 'Apple'}\n",
    "a = {1,2,3,4}\n",
    "s.update(a)\n",
    "print(s)"
   ]
  },
  {
   "cell_type": "code",
   "execution_count": 2,
   "id": "6dccc2f7-6fca-4845-84bb-d815c071e0f2",
   "metadata": {},
   "outputs": [
    {
     "name": "stdout",
     "output_type": "stream",
     "text": [
      "{'Apple', 'Cat'}\n"
     ]
    }
   ],
   "source": [
    "s = {'Ball', 'Cat', 'Apple'}\n",
    "s.remove(\"Ball\")\n",
    "print(s)"
   ]
  },
  {
   "cell_type": "code",
   "execution_count": 3,
   "id": "9c1140de-0551-4959-8534-d86fd48d6bf8",
   "metadata": {},
   "outputs": [
    {
     "name": "stdout",
     "output_type": "stream",
     "text": [
      "{1, 2, 3, 6}\n"
     ]
    }
   ],
   "source": [
    "#intersection\n",
    "a = {2,3,1,5,6,4,}\n",
    "b = {1,2,3,8,6,0,2}\n",
    "\n",
    "c = a.intersection(b)\n",
    "print(c)"
   ]
  },
  {
   "cell_type": "code",
   "execution_count": 6,
   "id": "21c93c8a-564e-4a9f-9111-73117d600753",
   "metadata": {},
   "outputs": [
    {
     "name": "stdout",
     "output_type": "stream",
     "text": [
      "{0, 1, 2, 3, 4, 5, 6, 8}\n"
     ]
    }
   ],
   "source": [
    "#union\n",
    "a = {2,3,1,5,6,4,}\n",
    "b = {1,2,3,8,6,0,2}\n",
    "\n",
    "c = a.union(b)\n",
    "print(c)"
   ]
  },
  {
   "cell_type": "code",
   "execution_count": 4,
   "id": "cfe51cd3-1aa5-4246-b9fb-022c1f130f8d",
   "metadata": {},
   "outputs": [
    {
     "name": "stdout",
     "output_type": "stream",
     "text": [
      "{4, 5}\n"
     ]
    }
   ],
   "source": [
    "print(a-b)"
   ]
  },
  {
   "cell_type": "code",
   "execution_count": 5,
   "id": "eca5c0b5-f582-4b50-b67e-94adf8635fce",
   "metadata": {},
   "outputs": [
    {
     "name": "stdout",
     "output_type": "stream",
     "text": [
      "{0, 8}\n"
     ]
    }
   ],
   "source": [
    "print(b-a)"
   ]
  },
  {
   "cell_type": "code",
   "execution_count": 7,
   "id": "d304b931-fac3-4c0a-b11f-de00c8e286c5",
   "metadata": {},
   "outputs": [
    {
     "name": "stdout",
     "output_type": "stream",
     "text": [
      "{9, 7}\n"
     ]
    }
   ],
   "source": [
    "U = {0,1,2,3,4,5,6,7,8,9}\n",
    "a = {2,3,1,5,6,4,}\n",
    "b = {1,2,3,8,6,0,2}\n",
    "\n",
    "c = U - a.union(b)\n",
    "print(c)"
   ]
  },
  {
   "cell_type": "code",
   "execution_count": 8,
   "id": "7a7bd786-479b-474b-8ffb-05e16202d23c",
   "metadata": {},
   "outputs": [
    {
     "ename": "TypeError",
     "evalue": "unhashable type: 'set'",
     "output_type": "error",
     "traceback": [
      "\u001b[1;31m---------------------------------------------------------------------------\u001b[0m",
      "\u001b[1;31mTypeError\u001b[0m                                 Traceback (most recent call last)",
      "Cell \u001b[1;32mIn[8], line 2\u001b[0m\n\u001b[0;32m      1\u001b[0m \u001b[38;5;66;03m# The is no set inside set\u001b[39;00m\n\u001b[1;32m----> 2\u001b[0m s \u001b[38;5;241m=\u001b[39m {{\u001b[38;5;241m1\u001b[39m,\u001b[38;5;241m2\u001b[39m},{\u001b[38;5;241m4\u001b[39m,\u001b[38;5;241m5\u001b[39m}}\n\u001b[0;32m      3\u001b[0m s\n",
      "\u001b[1;31mTypeError\u001b[0m: unhashable type: 'set'"
     ]
    }
   ],
   "source": [
    "# The is no set inside set\n",
    "# No List inside set\n",
    "# No dict inside set\n",
    "# ie No mutable datatype inside set\n",
    "s = {{1,2},{4,5}}\n",
    "s"
   ]
  },
  {
   "cell_type": "code",
   "execution_count": 9,
   "id": "0faf187e-0ccb-44e5-a687-e3c027cef391",
   "metadata": {},
   "outputs": [
    {
     "data": {
      "text/plain": [
       "{(1, 2), (4, 5)}"
      ]
     },
     "execution_count": 9,
     "metadata": {},
     "output_type": "execute_result"
    }
   ],
   "source": [
    "s = {(1,2),(4,5)}\n",
    "s"
   ]
  },
  {
   "cell_type": "code",
   "execution_count": null,
   "id": "f1ca1a86-fdca-46b1-8a46-5dc2eab8cfe0",
   "metadata": {},
   "outputs": [],
   "source": []
  }
 ],
 "metadata": {
  "kernelspec": {
   "display_name": "Python 3 (ipykernel)",
   "language": "python",
   "name": "python3"
  },
  "language_info": {
   "codemirror_mode": {
    "name": "ipython",
    "version": 3
   },
   "file_extension": ".py",
   "mimetype": "text/x-python",
   "name": "python",
   "nbconvert_exporter": "python",
   "pygments_lexer": "ipython3",
   "version": "3.11.7"
  }
 },
 "nbformat": 4,
 "nbformat_minor": 5
}
