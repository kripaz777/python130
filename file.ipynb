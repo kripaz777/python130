{
 "cells": [
  {
   "cell_type": "code",
   "execution_count": 1,
   "id": "df79e6dc-e32a-4a39-92b1-80ad9275cc32",
   "metadata": {},
   "outputs": [],
   "source": [
    "# file = open(<file_name>,<mode>)\n",
    "# file.close()\n",
    "\n",
    "# with open(<file name>,<mode>) as file:\n",
    "#     <operations>"
   ]
  },
  {
   "cell_type": "code",
   "execution_count": 3,
   "id": "d5c4f739-3352-4a70-8945-67b5b3a7861a",
   "metadata": {},
   "outputs": [],
   "source": [
    "# mode\n",
    "# create mode > x\n",
    "# read mode > r\n",
    "# write mode > w\n",
    "# append mode > a"
   ]
  },
  {
   "cell_type": "code",
   "execution_count": 4,
   "id": "0a39d12f-13da-4024-ae51-127a21685d54",
   "metadata": {},
   "outputs": [],
   "source": [
    "#create file\n",
    "file = open('data.txt','x')\n",
    "file.close()"
   ]
  },
  {
   "cell_type": "code",
   "execution_count": 6,
   "id": "75904273-4168-4539-bef6-a70c1431eef8",
   "metadata": {},
   "outputs": [
    {
     "name": "stdout",
     "output_type": "stream",
     "text": [
      "1. Hello World\n",
      "2. Hello World\n",
      "3. Hello World\n",
      "4. Hello World\n",
      "5. Hello World\n"
     ]
    }
   ],
   "source": [
    "#read file\n",
    "file = open('data.txt','r')\n",
    "data = file.read()\n",
    "print(data)\n",
    "file.close()"
   ]
  },
  {
   "cell_type": "code",
   "execution_count": 7,
   "id": "ad9fc527-dda9-406e-b34d-c1eee8e159ef",
   "metadata": {},
   "outputs": [
    {
     "name": "stdout",
     "output_type": "stream",
     "text": [
      "['1. Hello World', '2. Hello World', '3. Hello World', '4. Hello World', '5. Hello World']\n"
     ]
    }
   ],
   "source": [
    "list_data = data.split('\\n')\n",
    "print(list_data)"
   ]
  },
  {
   "cell_type": "code",
   "execution_count": 9,
   "id": "20185c20-fd17-4471-a633-50fd35cd2082",
   "metadata": {},
   "outputs": [],
   "source": [
    "#write on data\n",
    "file = open('datas.txt','w')\n",
    "file.write('Hello World')\n",
    "# print(data)\n",
    "file.close()"
   ]
  },
  {
   "cell_type": "code",
   "execution_count": 10,
   "id": "2d9273e6-71dd-4bea-ada1-bcf84e928213",
   "metadata": {},
   "outputs": [
    {
     "name": "stdin",
     "output_type": "stream",
     "text": [
      "Enter n =  2\n",
      "Enter product name =  Apple\n",
      "Enter price =  200\n",
      "Enter quantity =  4\n",
      "Enter product name =  Banana\n",
      "Enter price =  100\n",
      "Enter quantity =  4\n"
     ]
    },
    {
     "name": "stdout",
     "output_type": "stream",
     "text": [
      "Apple 200 4 800\n",
      "Banana 100 4 400\n",
      "\n"
     ]
    }
   ],
   "source": [
    "info = \"\"\n",
    "n = int(input(\"Enter n = \"))\n",
    "for i in range(n):\n",
    "    name = input(\"Enter product name = \")\n",
    "    price = int(input(\"Enter price = \"))\n",
    "    qty = int(input(\"Enter quantity = \"))\n",
    "    total = price * qty\n",
    "    info = info + f\"{name} {price} {qty} {total}\\n\"\n",
    "print(info)\n",
    "\n",
    "#write on data\n",
    "file = open('bill.txt','w')\n",
    "file.write(info)\n",
    "# print(data)\n",
    "file.close()"
   ]
  },
  {
   "cell_type": "code",
   "execution_count": 12,
   "id": "b8d111ab-51dc-4bb1-914c-72a9215efe56",
   "metadata": {},
   "outputs": [
    {
     "name": "stdin",
     "output_type": "stream",
     "text": [
      "Enter n =  2\n",
      "Enter product name =  Coke\n",
      "Enter price =  200\n",
      "Enter quantity =  3\n",
      "Enter product name =  Fanta\n",
      "Enter price =  100\n",
      "Enter quantity =  3\n"
     ]
    },
    {
     "name": "stdout",
     "output_type": "stream",
     "text": [
      "Coke 200 3 600\n",
      "Fanta 100 3 300\n",
      "\n"
     ]
    }
   ],
   "source": [
    "#append\n",
    "info = \"\"\n",
    "n = int(input(\"Enter n = \"))\n",
    "for i in range(n):\n",
    "    name = input(\"Enter product name = \")\n",
    "    price = int(input(\"Enter price = \"))\n",
    "    qty = int(input(\"Enter quantity = \"))\n",
    "    total = price * qty\n",
    "    info = info + f\"{name} {price} {qty} {total}\\n\"\n",
    "print(info)\n",
    "\n",
    "#write on data\n",
    "file = open('bill1.txt','a')\n",
    "file.write(info)\n",
    "# print(data)\n",
    "file.close()"
   ]
  },
  {
   "cell_type": "code",
   "execution_count": 13,
   "id": "bff482ca-e0da-4985-bb29-a568e2b7fad8",
   "metadata": {},
   "outputs": [
    {
     "name": "stdin",
     "output_type": "stream",
     "text": [
      "Enter n =  4\n",
      "Enter product name =  Apple\n",
      "Enter price =  400\n",
      "Enter quantity =  2\n",
      "Enter product name =  Banana\n",
      "Enter price =  100\n",
      "Enter quantity =  3\n",
      "Enter product name =  Orange\n",
      "Enter price =  100\n",
      "Enter quantity =  4\n",
      "Enter product name =  Egg\n",
      "Enter price =  500\n",
      "Enter quantity =  1\n"
     ]
    },
    {
     "name": "stdout",
     "output_type": "stream",
     "text": [
      "Apple,400,2,800\n",
      "Banana,100,3,300\n",
      "Orange,100,4,400\n",
      "Egg,500,1,500\n",
      "\n"
     ]
    }
   ],
   "source": [
    "info = \"\"\n",
    "n = int(input(\"Enter n = \"))\n",
    "for i in range(n):\n",
    "    name = input(\"Enter product name = \")\n",
    "    price = int(input(\"Enter price = \"))\n",
    "    qty = int(input(\"Enter quantity = \"))\n",
    "    total = price * qty\n",
    "    info = info + f\"{name},{price},{qty},{total}\\n\"\n",
    "print(info)\n",
    "\n",
    "#write on data\n",
    "file = open('bill.csv','w')\n",
    "file.write(info)\n",
    "# print(data)\n",
    "file.close()"
   ]
  },
  {
   "cell_type": "code",
   "execution_count": 14,
   "id": "97c4e8ab-1260-4109-9613-833a8b6d9527",
   "metadata": {},
   "outputs": [
    {
     "data": {
      "text/plain": [
       "'C:\\\\Users\\\\Aayush\\\\Untitled Folder 3'"
      ]
     },
     "execution_count": 14,
     "metadata": {},
     "output_type": "execute_result"
    }
   ],
   "source": [
    "pwd"
   ]
  },
  {
   "cell_type": "code",
   "execution_count": 27,
   "id": "848fec07-861e-4d16-87ff-4bf285448aaa",
   "metadata": {},
   "outputs": [
    {
     "data": {
      "text/plain": [
       "'Apple,400,2,800\\nBanana,100,3,300\\nOrange,100,4,400\\nEgg,500,1,500\\n'"
      ]
     },
     "execution_count": 27,
     "metadata": {},
     "output_type": "execute_result"
    }
   ],
   "source": [
    "file = open('bill.csv','r')\n",
    "data = file.read()\n",
    "file.close()\n",
    "data"
   ]
  },
  {
   "cell_type": "code",
   "execution_count": 23,
   "id": "73a27bad-233c-4a3e-b58f-326e25e1cf2c",
   "metadata": {},
   "outputs": [
    {
     "data": {
      "text/plain": [
       "['Apple,400,2,800', 'Banana,100,3,300', 'Orange,100,4,400', 'Egg,500,1,500']"
      ]
     },
     "execution_count": 23,
     "metadata": {},
     "output_type": "execute_result"
    }
   ],
   "source": [
    "l = data.split('\\n')[0:-1]\n",
    "l"
   ]
  },
  {
   "cell_type": "code",
   "execution_count": 25,
   "id": "2b4aa610-feb4-4f95-92c5-7b22566b17b6",
   "metadata": {},
   "outputs": [],
   "source": [
    "final_data = []\n",
    "for i in l:\n",
    "    final_data.append(i.split(','))"
   ]
  },
  {
   "cell_type": "code",
   "execution_count": 29,
   "id": "dd56ce41-6338-4f8d-b000-050a25dd29c4",
   "metadata": {},
   "outputs": [],
   "source": [
    "final_data"
   ]
  },
  {
   "cell_type": "code",
   "execution_count": 28,
   "id": "d1df1cbd-896c-42ec-a5c9-33e945c70cf3",
   "metadata": {},
   "outputs": [],
   "source": [
    "import csv\n",
    "file = open('bill.csv','w')\n",
    "x = csv.writer(file)\n",
    "x.writerows(final_data)\n",
    "file.close()"
   ]
  },
  {
   "cell_type": "code",
   "execution_count": null,
   "id": "b67de64d-41eb-4410-8f04-f2f0b4674fa4",
   "metadata": {},
   "outputs": [],
   "source": []
  }
 ],
 "metadata": {
  "kernelspec": {
   "display_name": "Python 3 (ipykernel)",
   "language": "python",
   "name": "python3"
  },
  "language_info": {
   "codemirror_mode": {
    "name": "ipython",
    "version": 3
   },
   "file_extension": ".py",
   "mimetype": "text/x-python",
   "name": "python",
   "nbconvert_exporter": "python",
   "pygments_lexer": "ipython3",
   "version": "3.11.7"
  }
 },
 "nbformat": 4,
 "nbformat_minor": 5
}
