{
 "cells": [
  {
   "cell_type": "code",
   "execution_count": 1,
   "id": "0c6db985-bac6-48cb-8c45-e7d1fd4f5005",
   "metadata": {},
   "outputs": [],
   "source": [
    "# Exceptio han"
   ]
  },
  {
   "cell_type": "code",
   "execution_count": 3,
   "id": "9c83f8dc-ef08-459b-b072-14527443ee99",
   "metadata": {},
   "outputs": [
    {
     "name": "stdin",
     "output_type": "stream",
     "text": [
      "Enter a =  ffsdf\n"
     ]
    },
    {
     "name": "stdout",
     "output_type": "stream",
     "text": [
      "There is some error\n"
     ]
    }
   ],
   "source": [
    "try:\n",
    "    a = int(input(\"Enter a = \"))\n",
    "except:\n",
    "    print(\"There is some error\")"
   ]
  },
  {
   "cell_type": "code",
   "execution_count": 4,
   "id": "e4b29fef-c2cb-4095-87d3-8ede2c194f4d",
   "metadata": {},
   "outputs": [
    {
     "name": "stdin",
     "output_type": "stream",
     "text": [
      "Enter a =  100\n",
      "Enter b =  0\n"
     ]
    },
    {
     "name": "stdout",
     "output_type": "stream",
     "text": [
      "There is some error\n"
     ]
    }
   ],
   "source": [
    "try:\n",
    "    a = int(input(\"Enter a = \"))\n",
    "    b = int(input(\"Enter b = \"))\n",
    "    c = a/b\n",
    "except:\n",
    "    print(\"There is some error\")"
   ]
  },
  {
   "cell_type": "code",
   "execution_count": 7,
   "id": "70f180e5-b7a7-43c1-a624-73e1e6fd4fc8",
   "metadata": {},
   "outputs": [
    {
     "name": "stdin",
     "output_type": "stream",
     "text": [
      "Enter a =  10\n",
      "Enter b =  0\n"
     ]
    },
    {
     "name": "stdout",
     "output_type": "stream",
     "text": [
      "Value of b can not be zero.\n"
     ]
    }
   ],
   "source": [
    "try:\n",
    "    a = int(input(\"Enter a = \"))\n",
    "    b = int(input(\"Enter b = \"))\n",
    "    c = a/b\n",
    "except ValueError:\n",
    "    print(\"Please enter int value\")\n",
    "except ZeroDivisionError:\n",
    "    print(\"Value of b can not be zero.\")"
   ]
  },
  {
   "cell_type": "code",
   "execution_count": 8,
   "id": "7e3765af-70b9-4280-a2fb-839c37ca0e70",
   "metadata": {},
   "outputs": [
    {
     "name": "stdin",
     "output_type": "stream",
     "text": [
      "Enter a =  10\n",
      "Enter b =  2\n"
     ]
    },
    {
     "name": "stdout",
     "output_type": "stream",
     "text": [
      "Value of c =  5.0\n"
     ]
    }
   ],
   "source": [
    "try:\n",
    "    a = int(input(\"Enter a = \"))\n",
    "    b = int(input(\"Enter b = \"))\n",
    "    c = a/b\n",
    "except ValueError:\n",
    "    print(\"Please enter int value\")\n",
    "except ZeroDivisionError:\n",
    "    print(\"Value of b can not be zero.\")\n",
    "else:\n",
    "    print(\"Value of c = \",c)"
   ]
  },
  {
   "cell_type": "code",
   "execution_count": 11,
   "id": "8d038dd6-7069-4a7d-8553-bb5058c8b69c",
   "metadata": {},
   "outputs": [
    {
     "ename": "AssertionError",
     "evalue": "",
     "output_type": "error",
     "traceback": [
      "\u001b[1;31m---------------------------------------------------------------------------\u001b[0m",
      "\u001b[1;31mAssertionError\u001b[0m                            Traceback (most recent call last)",
      "Cell \u001b[1;32mIn[11], line 2\u001b[0m\n\u001b[0;32m      1\u001b[0m age \u001b[38;5;241m=\u001b[39m \u001b[38;5;241m18\u001b[39m\n\u001b[1;32m----> 2\u001b[0m \u001b[38;5;28;01massert\u001b[39;00m age \u001b[38;5;241m>\u001b[39m\u001b[38;5;241m=\u001b[39m \u001b[38;5;241m20\u001b[39m\n",
      "\u001b[1;31mAssertionError\u001b[0m: "
     ]
    }
   ],
   "source": [
    "age = 18\n",
    "assert age >= 20"
   ]
  },
  {
   "cell_type": "code",
   "execution_count": 18,
   "id": "15fb1b18-76b6-4933-9b6b-7aee066e8119",
   "metadata": {},
   "outputs": [
    {
     "name": "stdin",
     "output_type": "stream",
     "text": [
      "Enter username =  admin\n",
      "Enter password =  sdad\n"
     ]
    },
    {
     "name": "stdout",
     "output_type": "stream",
     "text": [
      "Username and password does not match!\n"
     ]
    },
    {
     "name": "stdin",
     "output_type": "stream",
     "text": [
      "Enter username =  admin\n",
      "Enter password =  admin\n"
     ]
    },
    {
     "name": "stdout",
     "output_type": "stream",
     "text": [
      "You are logedin! 2\n"
     ]
    }
   ],
   "source": [
    "db_username = 'admin'\n",
    "db_password = 'admin'\n",
    "c = 1\n",
    "def login():\n",
    "    global c\n",
    "    username = input(\"Enter username = \")\n",
    "    password = input(\"Enter password = \")\n",
    "    try:\n",
    "        assert username == db_username and password == db_password\n",
    "    except:\n",
    "        print(\"Username and password does not match!\")\n",
    "        c = c+1\n",
    "        login()\n",
    "    else:\n",
    "        print(\"You are logedin!\", c)\n",
    "\n",
    "login()"
   ]
  },
  {
   "cell_type": "code",
   "execution_count": null,
   "id": "6f1ea44c-be1c-42b9-bc95-22f24279a6da",
   "metadata": {},
   "outputs": [],
   "source": []
  },
  {
   "cell_type": "code",
   "execution_count": 19,
   "id": "31a25482-4975-405b-909d-e4afaa394631",
   "metadata": {},
   "outputs": [],
   "source": [
    "# List comprihenson"
   ]
  },
  {
   "cell_type": "code",
   "execution_count": 20,
   "id": "e84ed162-05cd-4de9-b62c-d2fbfc619bf6",
   "metadata": {},
   "outputs": [
    {
     "data": {
      "text/plain": [
       "[0, 1, 2, 3, 4]"
      ]
     },
     "execution_count": 20,
     "metadata": {},
     "output_type": "execute_result"
    }
   ],
   "source": [
    "a = [i for i in range(5)]\n",
    "a"
   ]
  },
  {
   "cell_type": "code",
   "execution_count": 21,
   "id": "af196635-9704-48c2-ac2d-2dbba7d06841",
   "metadata": {},
   "outputs": [
    {
     "name": "stdin",
     "output_type": "stream",
     "text": [
      "Enter name Ram\n",
      "Enter name Shyam\n"
     ]
    },
    {
     "data": {
      "text/plain": [
       "['Ram', 'Shyam']"
      ]
     },
     "execution_count": 21,
     "metadata": {},
     "output_type": "execute_result"
    }
   ],
   "source": [
    "a = [input(\"Enter name\") for i in range(2)]\n",
    "a"
   ]
  },
  {
   "cell_type": "code",
   "execution_count": 23,
   "id": "0bb24136-45bc-4649-871d-2ae2e616825d",
   "metadata": {},
   "outputs": [
    {
     "data": {
      "text/plain": [
       "['apple', 'ball', 'cat', 'dog']"
      ]
     },
     "execution_count": 23,
     "metadata": {},
     "output_type": "execute_result"
    }
   ],
   "source": [
    "a = [\"Apple\",\"Ball\",\"Cat\",\"Dog\"]\n",
    "b = [i.lower() for i in a]\n",
    "b"
   ]
  },
  {
   "cell_type": "code",
   "execution_count": 24,
   "id": "aae830da-9493-4f35-a6cd-a289d4227860",
   "metadata": {},
   "outputs": [
    {
     "data": {
      "text/plain": [
       "['Apple', 'Ball', 'Cat', 'Dog']"
      ]
     },
     "execution_count": 24,
     "metadata": {},
     "output_type": "execute_result"
    }
   ],
   "source": [
    "a = [\"Apple1\",\"Ball1\",\"Cat1\",\"Dog1\"]\n",
    "b = [i.replace('1','') for i in a]\n",
    "b"
   ]
  },
  {
   "cell_type": "code",
   "execution_count": 25,
   "id": "320d3445-d404-4b5d-b769-e9680e2dc4c5",
   "metadata": {},
   "outputs": [],
   "source": [
    "# dict"
   ]
  },
  {
   "cell_type": "code",
   "execution_count": 27,
   "id": "4c1fad86-d107-4fb1-9da3-7d8a24b5ed52",
   "metadata": {},
   "outputs": [
    {
     "data": {
      "text/plain": [
       "{1: 1, 2: 4, 3: 9, 4: 16, 5: 25, 6: 36, 7: 49, 8: 64, 9: 81}"
      ]
     },
     "execution_count": 27,
     "metadata": {},
     "output_type": "execute_result"
    }
   ],
   "source": [
    "a = [1,2,3,4,5,6,7,8,9]\n",
    "b = {i:i**2 for i in a}\n",
    "b"
   ]
  },
  {
   "cell_type": "code",
   "execution_count": 28,
   "id": "c54f822f-f1ed-432a-a405-6f8447ebfe3f",
   "metadata": {},
   "outputs": [
    {
     "name": "stdin",
     "output_type": "stream",
     "text": [
      "Enter name  Ram\n",
      "Enter phone  9808778765\n",
      "Enter name  Syam\n",
      "Enter phone  9808778765\n"
     ]
    },
    {
     "data": {
      "text/plain": [
       "{'Ram': '9808778765', 'Syam': '9808778765'}"
      ]
     },
     "execution_count": 28,
     "metadata": {},
     "output_type": "execute_result"
    }
   ],
   "source": [
    "a = {input(\"Enter name \"):input(\"Enter phone \")  for i in range(2)}\n",
    "a"
   ]
  },
  {
   "cell_type": "code",
   "execution_count": 29,
   "id": "83b5b52e-a0b6-4b1f-99b3-2db0271f90d8",
   "metadata": {},
   "outputs": [
    {
     "data": {
      "text/plain": [
       "{'Apple': 'apple', 'Ball': 'ball', 'Cat': 'cat', 'Dog': 'dog'}"
      ]
     },
     "execution_count": 29,
     "metadata": {},
     "output_type": "execute_result"
    }
   ],
   "source": [
    "a = [\"Apple\",\"Ball\",\"Cat\",\"Dog\"]\n",
    "b = {i:i.lower() for i in a}\n",
    "b"
   ]
  },
  {
   "cell_type": "code",
   "execution_count": null,
   "id": "0fc2c531-bfae-43f9-8908-c78314d1dc58",
   "metadata": {},
   "outputs": [],
   "source": []
  }
 ],
 "metadata": {
  "kernelspec": {
   "display_name": "Python 3 (ipykernel)",
   "language": "python",
   "name": "python3"
  },
  "language_info": {
   "codemirror_mode": {
    "name": "ipython",
    "version": 3
   },
   "file_extension": ".py",
   "mimetype": "text/x-python",
   "name": "python",
   "nbconvert_exporter": "python",
   "pygments_lexer": "ipython3",
   "version": "3.11.7"
  }
 },
 "nbformat": 4,
 "nbformat_minor": 5
}
