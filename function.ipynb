{
 "cells": [
  {
   "cell_type": "code",
   "execution_count": 1,
   "id": "e3118912-54b9-4cfc-8f94-f0fe6d22239b",
   "metadata": {},
   "outputs": [],
   "source": [
    "# function\n",
    "#pre defined\n",
    "#userdefined"
   ]
  },
  {
   "cell_type": "code",
   "execution_count": 3,
   "id": "b24bac97-a273-4f38-abce-71ff291f5ca1",
   "metadata": {},
   "outputs": [],
   "source": [
    "# pre defined function\n",
    "# print() int() float() str() bool() list() tuple() dict() set()"
   ]
  },
  {
   "cell_type": "code",
   "execution_count": 4,
   "id": "cbd37e23-0218-4e90-b758-f300ab88f622",
   "metadata": {},
   "outputs": [],
   "source": [
    "# def <function_name>:\n",
    "#     <operation>\n",
    "\n",
    "# <function_name()>"
   ]
  },
  {
   "cell_type": "code",
   "execution_count": 5,
   "id": "017658f1-8531-4b55-a012-7720b4766e23",
   "metadata": {},
   "outputs": [
    {
     "name": "stdout",
     "output_type": "stream",
     "text": [
      "Hello World\n"
     ]
    }
   ],
   "source": [
    "def hello():                  #function define\n",
    "    print(\"Hello World\")\n",
    "\n",
    "hello()                       #function call"
   ]
  },
  {
   "cell_type": "code",
   "execution_count": 7,
   "id": "4f149b9c-b465-4cd1-a667-c5bb850e81ff",
   "metadata": {},
   "outputs": [
    {
     "name": "stdin",
     "output_type": "stream",
     "text": [
      "Enter l =  100\n",
      "Enter b =  20\n"
     ]
    },
    {
     "name": "stdout",
     "output_type": "stream",
     "text": [
      "2000\n"
     ]
    }
   ],
   "source": [
    "def area():\n",
    "    l = int(input(\"Enter l = \"))       #local variable\n",
    "    b = int(input(\"Enter b = \"))       #local variable\n",
    "    a = l*b                            #local variable\n",
    "    print(a)\n",
    "\n",
    "area()"
   ]
  },
  {
   "cell_type": "code",
   "execution_count": null,
   "id": "0e7ce66e-a9d6-455a-b00b-7598fd82d956",
   "metadata": {},
   "outputs": [],
   "source": [
    "l = int(input(\"Enter l = \"))       #global variable\n",
    "b = int(input(\"Enter b = \"))       #global variable\n",
    "\n",
    "def area():\n",
    "    a = l*b                            #local variable\n",
    "    print(a)\n",
    "\n",
    "area()"
   ]
  },
  {
   "cell_type": "code",
   "execution_count": 8,
   "id": "8e368929-d11b-4aa2-9368-c4765a96e560",
   "metadata": {},
   "outputs": [
    {
     "name": "stdin",
     "output_type": "stream",
     "text": [
      "Enter l =  20\n",
      "Enter b =  5\n"
     ]
    },
    {
     "name": "stdout",
     "output_type": "stream",
     "text": [
      "100\n"
     ]
    }
   ],
   "source": [
    "#function with arguments\n",
    "def area(l,b):                     #l,b parameter\n",
    "    a = l*b                            #local variable\n",
    "    print(a)\n",
    "\n",
    "l = int(input(\"Enter l = \"))       #local variable\n",
    "b = int(input(\"Enter b = \"))       #local variable\n",
    "area(l,b)                          #l,b are argument"
   ]
  },
  {
   "cell_type": "code",
   "execution_count": null,
   "id": "a08bb46b-91ba-45cd-9a06-9c6f99a0a39a",
   "metadata": {},
   "outputs": [],
   "source": [
    "#function with arguments\n",
    "def area(x,y):                     #l,b parameter\n",
    "    a = x*y                        #local variable\n",
    "    print(a)\n",
    "\n",
    "l = int(input(\"Enter l = \"))       #Global variable\n",
    "b = int(input(\"Enter b = \"))       #Global variable\n",
    "area(l,b)                          #l,b are argument"
   ]
  },
  {
   "cell_type": "code",
   "execution_count": 9,
   "id": "0acb6bed-605b-4d02-9bd9-d425056ea0be",
   "metadata": {},
   "outputs": [
    {
     "name": "stdin",
     "output_type": "stream",
     "text": [
      "Enter l =  100\n",
      "Enter b =  20\n",
      "Enter h =  3\n"
     ]
    },
    {
     "name": "stdout",
     "output_type": "stream",
     "text": [
      "area =  2000\n",
      "volume =  6000\n"
     ]
    }
   ],
   "source": [
    "def cal(x,y,z):\n",
    "    a = x*y\n",
    "    v = a*z\n",
    "    print(\"area = \",a)\n",
    "    print(\"volume = \",v)\n",
    "\n",
    "l = int(input(\"Enter l = \"))\n",
    "b = int(input(\"Enter b = \"))\n",
    "h = int(input(\"Enter h = \"))\n",
    "cal(l,b,h)                   #l,b,h area argument"
   ]
  },
  {
   "cell_type": "code",
   "execution_count": null,
   "id": "170483f2-02b5-4d14-a2ee-f55ca5844698",
   "metadata": {},
   "outputs": [],
   "source": [
    "def area(x,y):\n",
    "    a = x*y\n",
    "    print(a)\n",
    "\n",
    "def volume(x,y,z):\n",
    "    v = x*y*z\n",
    "    print(v)\n",
    "\n",
    "l = int(input(\"Enter l = \"))\n",
    "b = int(input(\"Enter b = \"))\n",
    "h = int(input(\"Enter h = \"))\n",
    "\n",
    "area(l,b)\n",
    "volume(l,b,h)"
   ]
  },
  {
   "cell_type": "code",
   "execution_count": 1,
   "id": "0012de9d-e169-4d9c-bfdc-39b2d3c1302b",
   "metadata": {},
   "outputs": [
    {
     "name": "stdin",
     "output_type": "stream",
     "text": [
      "Enter l =  100\n",
      "Enter b =  20\n"
     ]
    },
    {
     "name": "stdout",
     "output_type": "stream",
     "text": [
      "2000\n"
     ]
    }
   ],
   "source": [
    "def area():\n",
    "    global l\n",
    "    l = int(input(\"Enter l = \"))       #local variable\n",
    "    b = int(input(\"Enter b = \"))       #local variable\n",
    "    a = l*b                            #local variable\n",
    "    print(a)\n",
    "\n",
    "area()"
   ]
  },
  {
   "cell_type": "code",
   "execution_count": 2,
   "id": "91778bc6-8f7f-4889-814f-91409f907817",
   "metadata": {},
   "outputs": [
    {
     "name": "stdout",
     "output_type": "stream",
     "text": [
      "100\n"
     ]
    },
    {
     "ename": "NameError",
     "evalue": "name 'b' is not defined",
     "output_type": "error",
     "traceback": [
      "\u001b[1;31m---------------------------------------------------------------------------\u001b[0m",
      "\u001b[1;31mNameError\u001b[0m                                 Traceback (most recent call last)",
      "Cell \u001b[1;32mIn[2], line 2\u001b[0m\n\u001b[0;32m      1\u001b[0m \u001b[38;5;28mprint\u001b[39m(l)\n\u001b[1;32m----> 2\u001b[0m \u001b[38;5;28mprint\u001b[39m(b)\n",
      "\u001b[1;31mNameError\u001b[0m: name 'b' is not defined"
     ]
    }
   ],
   "source": [
    "print(l)\n",
    "print(b)"
   ]
  },
  {
   "cell_type": "code",
   "execution_count": 8,
   "id": "ed53b843-8b0e-4701-a3b7-ab7da5def16b",
   "metadata": {},
   "outputs": [
    {
     "name": "stdout",
     "output_type": "stream",
     "text": [
      "C\n",
      "C++\n",
      "Java\n",
      "C#\n",
      "Python\n"
     ]
    }
   ],
   "source": [
    "lan = \"python\"\n",
    "def language(lan = \"Python\"):\n",
    "    print(lan)\n",
    "\n",
    "language(\"C\")\n",
    "language(\"C++\")\n",
    "language(\"Java\")\n",
    "language(\"C#\")\n",
    "language()"
   ]
  },
  {
   "cell_type": "code",
   "execution_count": 1,
   "id": "d4b69d68-7fcb-4297-b32b-654288218b81",
   "metadata": {},
   "outputs": [],
   "source": [
    "# return type function"
   ]
  },
  {
   "cell_type": "code",
   "execution_count": 2,
   "id": "73571e96-b8f0-4629-b106-c7455aa6aa5f",
   "metadata": {},
   "outputs": [
    {
     "name": "stdout",
     "output_type": "stream",
     "text": [
      "Hello World\n"
     ]
    }
   ],
   "source": [
    "def hello():\n",
    "    return \"Hello World\"\n",
    "\n",
    "print(hello())"
   ]
  },
  {
   "cell_type": "code",
   "execution_count": 3,
   "id": "70cb3340-2690-4d0f-9dc2-3458bffed1a6",
   "metadata": {},
   "outputs": [
    {
     "name": "stdin",
     "output_type": "stream",
     "text": [
      "Enter l =  100\n",
      "Enter b =  2\n"
     ]
    },
    {
     "name": "stdout",
     "output_type": "stream",
     "text": [
      "200\n"
     ]
    }
   ],
   "source": [
    "def cal():\n",
    "    l = int(input(\"Enter l = \"))\n",
    "    b = int(input(\"Enter b = \"))\n",
    "    a = l*b\n",
    "    return a\n",
    "\n",
    "area = cal()\n",
    "print(area)\n",
    "h = int(input(\"Enter h = \"))\n",
    "v = area *h \n",
    "print(\"Volume = \",v)"
   ]
  },
  {
   "cell_type": "code",
   "execution_count": null,
   "id": "eb871d71-5d6e-4dd0-af38-602d49e2bb59",
   "metadata": {},
   "outputs": [],
   "source": [
    "#arguments with return value\n",
    "def cal(x,y):\n",
    "    a = l*b\n",
    "    return a\n",
    "\n",
    "l = int(input(\"Enter l = \"))\n",
    "b = int(input(\"Enter b = \"))\n",
    "h = int(input(\"Enter h = \"))\n",
    "area = cal(l,b)                 #arguments\n",
    "v = area * h\n",
    "print(\"Volume = \",v)"
   ]
  },
  {
   "cell_type": "code",
   "execution_count": 4,
   "id": "5758056c-eb03-4ca5-b0eb-70ee5342612b",
   "metadata": {},
   "outputs": [
    {
     "name": "stdin",
     "output_type": "stream",
     "text": [
      "Enter a =  100\n",
      "Enter b =  23\n",
      "Enter + - * /   /\n"
     ]
    },
    {
     "name": "stdout",
     "output_type": "stream",
     "text": [
      "4.3478260869565215\n"
     ]
    }
   ],
   "source": [
    "def add(a,b):\n",
    "    return a+b\n",
    "def sub(a,b):\n",
    "    return a-b\n",
    "def mul(a,b):\n",
    "    return a*b\n",
    "def div(a,b):\n",
    "    return a/b\n",
    "    \n",
    "def cal(a,b,o):\n",
    "    if o == \"+\":\n",
    "        print(add(a,b))\n",
    "    elif o == \"-\":\n",
    "        print(sub(a,b))\n",
    "    elif o == \"*\":\n",
    "        print(mul(l,b))\n",
    "    elif o == \"/\":\n",
    "        print(div(a,b))\n",
    "    else:\n",
    "        print(\"Invalid operator\")\n",
    "        \n",
    "a = int(input(\"Enter a = \"))\n",
    "b = int(input(\"Enter b = \"))\n",
    "o = input(\"Enter + - * /  \")\n",
    "\n",
    "cal(a,b,o)"
   ]
  },
  {
   "cell_type": "code",
   "execution_count": 5,
   "id": "d19db771-2d84-41d9-b7fb-71ddeb33172b",
   "metadata": {},
   "outputs": [],
   "source": [
    "# lambda function"
   ]
  },
  {
   "cell_type": "code",
   "execution_count": 6,
   "id": "d7f00c8a-33ca-4361-8554-99e357f560c5",
   "metadata": {},
   "outputs": [],
   "source": [
    "# lambda <arguments>:<operation>"
   ]
  },
  {
   "cell_type": "code",
   "execution_count": 7,
   "id": "b25ec8df-22bd-46b2-9cfe-25eb9c155ec5",
   "metadata": {},
   "outputs": [
    {
     "name": "stdout",
     "output_type": "stream",
     "text": [
      "50\n"
     ]
    }
   ],
   "source": [
    "a = lambda l,b:l*b\n",
    "print(a(10,5))"
   ]
  },
  {
   "cell_type": "code",
   "execution_count": 8,
   "id": "c02e0224-5e2d-4721-b4cf-f8753b89505b",
   "metadata": {},
   "outputs": [
    {
     "name": "stdout",
     "output_type": "stream",
     "text": [
      "hello world\n"
     ]
    }
   ],
   "source": [
    "a = lambda s:s.lower()\n",
    "print(a(\"HELLO WORLD\"))"
   ]
  },
  {
   "cell_type": "code",
   "execution_count": null,
   "id": "a911530e-d469-4145-bbbf-f3c07784b0e9",
   "metadata": {},
   "outputs": [],
   "source": [
    "# filter function\n",
    "#list(filter(lambda <argument>:<condition>, list))"
   ]
  },
  {
   "cell_type": "code",
   "execution_count": 14,
   "id": "d0bf07cb-da99-4695-8b04-25c2c9b8f4b6",
   "metadata": {},
   "outputs": [
    {
     "name": "stdout",
     "output_type": "stream",
     "text": [
      "[34, 56, 12, 54, 90]\n"
     ]
    }
   ],
   "source": [
    "# filter function\n",
    "a = [34,56,23,77,89,12,54,67,90]\n",
    "even_value = list(filter(lambda x : x%2==0,a))\n",
    "print(even_value)"
   ]
  },
  {
   "cell_type": "code",
   "execution_count": 15,
   "id": "af380279-46fb-4dbd-8af9-df60b5382540",
   "metadata": {},
   "outputs": [
    {
     "name": "stdout",
     "output_type": "stream",
     "text": [
      "[23, 77, 89, 67]\n"
     ]
    }
   ],
   "source": [
    "# filter function\n",
    "a = [34,56,23,77,89,12,54,67,90]\n",
    "odd_value = list(filter(lambda x : x%2!=0,a))\n",
    "print(odd_value)"
   ]
  },
  {
   "cell_type": "code",
   "execution_count": 16,
   "id": "cf572761-980f-4d2d-9a52-e54ae42d062f",
   "metadata": {},
   "outputs": [
    {
     "name": "stdout",
     "output_type": "stream",
     "text": [
      "['Apple', 'Cat', 'Fish']\n"
     ]
    }
   ],
   "source": [
    "a = [\"Apple\",\"ball\",\"Cat\",\"dog\",\"Fish\"]\n",
    "upper_case = list(filter(lambda x : x[0].isupper(),a))\n",
    "print(upper_case)"
   ]
  },
  {
   "cell_type": "code",
   "execution_count": null,
   "id": "57785295-247a-4d8c-8b6d-1e84798bf2ea",
   "metadata": {},
   "outputs": [],
   "source": [
    "#mapping function\n",
    "#list(map(lambda <argument>:<operation>, list))"
   ]
  },
  {
   "cell_type": "code",
   "execution_count": 17,
   "id": "d3eda7de-ed63-48d3-9b80-b6bff894d881",
   "metadata": {},
   "outputs": [
    {
     "name": "stdout",
     "output_type": "stream",
     "text": [
      "[1, 4, 9, 16, 25, 36, 49, 64, 81]\n"
     ]
    }
   ],
   "source": [
    "# map function\n",
    "l = [1,2,3,4,5,6,7,8,9]\n",
    "s = list(map(lambda x:x**2 , l))\n",
    "print(s)"
   ]
  },
  {
   "cell_type": "code",
   "execution_count": 19,
   "id": "ad749432-d766-4c26-ab26-7476528a88a2",
   "metadata": {},
   "outputs": [
    {
     "name": "stdout",
     "output_type": "stream",
     "text": [
      "['apple', 'ball', 'cat', 'dog', 'fish']\n"
     ]
    }
   ],
   "source": [
    "# map function\n",
    "a = [\"Apple\",\"Ball\",\"Cat\",\"Dog\",\"Fish\"]\n",
    "s = list(map(lambda x:x.lower() , a))\n",
    "print(s)"
   ]
  },
  {
   "cell_type": "code",
   "execution_count": null,
   "id": "148db37d-2950-43d4-837a-577c4ffdff59",
   "metadata": {},
   "outputs": [],
   "source": []
  }
 ],
 "metadata": {
  "kernelspec": {
   "display_name": "Python 3 (ipykernel)",
   "language": "python",
   "name": "python3"
  },
  "language_info": {
   "codemirror_mode": {
    "name": "ipython",
    "version": 3
   },
   "file_extension": ".py",
   "mimetype": "text/x-python",
   "name": "python",
   "nbconvert_exporter": "python",
   "pygments_lexer": "ipython3",
   "version": "3.11.7"
  }
 },
 "nbformat": 4,
 "nbformat_minor": 5
}
